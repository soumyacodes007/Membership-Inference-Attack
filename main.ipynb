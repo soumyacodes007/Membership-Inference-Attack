{
  "nbformat": 4,
  "nbformat_minor": 0,
  "metadata": {
    "colab": {
      "provenance": []
    },
    "kernelspec": {
      "name": "python3",
      "display_name": "Python 3"
    },
    "language_info": {
      "name": "python"
    }
  },
  "cells": [
    {
      "cell_type": "markdown",
      "source": [
        "\n",
        "\n",
        "```\n",
        "# Membership Inference Attack on Adult Income Dataset\n",
        "\n",
        "## Overview\n",
        "This project demonstrates a **Membership Inference Attack (MIA)** on the UCI Adult Income dataset to expose privacy risks, as part of my preparation for the **Data Privacy Challenge (SBH2025)**. I achieved ~65% attack accuracy, showing model leakage, and explored **Differential Privacy (DP)** to mitigate it, despite compatibility challenges with tensorflow_privacy.\n",
        "\n",
        "**Goals**:\n",
        "- Detect training data membership using MIA.\n",
        "- Test DP’s protection against attacks.\n",
        "- Prepare for adversarial tasks like unmasking protected data.\n",
        "\n",
        "## Table of Contents\n",
        "1. [Setup and Imports](#setup)\n",
        "2. [Data Preprocessing](#data)\n",
        "3. [Target Model Training](#target)\n",
        "4. [Shadow Models and MIA](#mia)\n",
        "5. [Differential Privacy Attempt](#dp)\n",
        "6. [Results and Visuals](#results)\n",
        "7. [Conclusion](#conclusion)\n",
        "```\n",
        "\n"
      ],
      "metadata": {
        "id": "C1Akkvm-fSHY"
      }
    },
    {
      "cell_type": "code",
      "execution_count": 11,
      "metadata": {
        "colab": {
          "base_uri": "https://localhost:8080/"
        },
        "id": "A8sUDhise14t",
        "outputId": "9cc51c51-c57d-4d03-c95d-71b417c2b4d5"
      },
      "outputs": [
        {
          "output_type": "stream",
          "name": "stdout",
          "text": [
            "All good!\n"
          ]
        }
      ],
      "source": [
        "# importing all libraries\n",
        "import pandas as pd\n",
        "import numpy as np\n",
        "import sklearn\n",
        "import tensorflow as tf\n",
        "import matplotlib.pyplot as plt\n",
        "import seaborn as sns\n",
        "print(\"All good!\")"
      ]
    },
    {
      "cell_type": "code",
      "source": [
        "import pandas as pd\n",
        "\n",
        "# Define column names (from UCI documentation)\n",
        "columns = [\n",
        "    \"age\", \"workclass\", \"fnlwgt\", \"education\", \"education-num\",\n",
        "    \"marital-status\", \"occupation\", \"relationship\", \"race\", \"sex\",\n",
        "    \"capital-gain\", \"capital-loss\", \"hours-per-week\", \"native-country\", \"income\"\n",
        "]\n",
        "\n",
        "# Load training data\n",
        "train_data = pd.read_csv(\"adult.csv\", names=columns, skipinitialspace=True)\n",
        "\n",
        "# Load test data\n",
        "test_data = pd.read_csv(\"test.csv\", names=columns, skipinitialspace=True, skiprows=1)\n",
        "\n",
        "# Combine for simplicity\n",
        "data = pd.concat([train_data, test_data], ignore_index=True)\n",
        "\n",
        "# Quick look\n",
        "print(data.head())\n",
        "\n",
        "\n",
        "\n",
        "print(\"\\n\")\n",
        "\n",
        "\n",
        "print(data.shape)"
      ],
      "metadata": {
        "colab": {
          "base_uri": "https://localhost:8080/"
        },
        "id": "2SdRUgfBff12",
        "outputId": "3a004bff-821a-477f-9f7f-4a56313788a3"
      },
      "execution_count": 12,
      "outputs": [
        {
          "output_type": "stream",
          "name": "stdout",
          "text": [
            "   age         workclass  fnlwgt  education  education-num  \\\n",
            "0   39         State-gov   77516  Bachelors             13   \n",
            "1   50  Self-emp-not-inc   83311  Bachelors             13   \n",
            "2   38           Private  215646    HS-grad              9   \n",
            "3   53           Private  234721       11th              7   \n",
            "4   28           Private  338409  Bachelors             13   \n",
            "\n",
            "       marital-status         occupation   relationship   race     sex  \\\n",
            "0       Never-married       Adm-clerical  Not-in-family  White    Male   \n",
            "1  Married-civ-spouse    Exec-managerial        Husband  White    Male   \n",
            "2            Divorced  Handlers-cleaners  Not-in-family  White    Male   \n",
            "3  Married-civ-spouse  Handlers-cleaners        Husband  Black    Male   \n",
            "4  Married-civ-spouse     Prof-specialty           Wife  Black  Female   \n",
            "\n",
            "   capital-gain  capital-loss  hours-per-week native-country income  \n",
            "0          2174             0              40  United-States  <=50K  \n",
            "1             0             0              13  United-States  <=50K  \n",
            "2             0             0              40  United-States  <=50K  \n",
            "3             0             0              40  United-States  <=50K  \n",
            "4             0             0              40           Cuba  <=50K  \n",
            "\n",
            "\n",
            "(48842, 15)\n"
          ]
        }
      ]
    },
    {
      "cell_type": "code",
      "source": [
        "from sklearn.model_selection import train_test_split\n",
        "\n",
        "# Features (X) and target (y)\n",
        "X = data.drop(\"income\", axis=1)\n",
        "y = data[\"income\"]\n",
        "\n",
        "# Split: 60% train, 20% validation, 20% test\n",
        "X_temp, X_test, y_temp, y_test = train_test_split(X, y, test_size=0.2, random_state=42)\n",
        "X_train, X_val, y_train, y_val = train_test_split(X_temp, y_temp, test_size=0.25, random_state=42)\n",
        "\n",
        "# Verify sizes\n",
        "print(\"Train:\", X_train.shape, y_train.shape)\n",
        "print(\"Validation:\", X_val.shape, y_val.shape)\n",
        "print(\"Test:\", X_test.shape, y_test.shape)"
      ],
      "metadata": {
        "id": "Q35-KApvkdRX",
        "colab": {
          "base_uri": "https://localhost:8080/"
        },
        "outputId": "d853317e-87fd-42d8-a677-dcbb633a9c46"
      },
      "execution_count": 15,
      "outputs": [
        {
          "output_type": "stream",
          "name": "stdout",
          "text": [
            "Train: (27132, 14) (27132,)\n",
            "Validation: (9045, 14) (9045,)\n",
            "Test: (9045, 14) (9045,)\n"
          ]
        }
      ]
    },
    {
      "cell_type": "code",
      "source": [
        "# Load data\n",
        "columns = [\n",
        "    \"age\", \"workclass\", \"fnlwgt\", \"education\", \"education-num\",\n",
        "    \"marital-status\", \"occupation\", \"relationship\", \"race\", \"sex\",\n",
        "    \"capital-gain\", \"capital-loss\", \"hours-per-week\", \"native-country\", \"income\"\n",
        "]\n",
        "train_data = pd.read_csv(\"adult.csv\", names=columns, skipinitialspace=True)\n",
        "test_data = pd.read_csv(\"test.csv\", names=columns, skipinitialspace=True, skiprows=1)\n",
        "data = pd.concat([train_data, test_data], ignore_index=True)\n",
        "\n",
        "# Clean: Drop NaNs, fix income labels\n",
        "data = data.replace(\"?\", pd.NA).dropna()\n",
        "data[\"income\"] = data[\"income\"].str.replace(\"<=50K.\", \"<=50K\", regex=False)\n",
        "data[\"income\"] = data[\"income\"].str.replace(\">50K.\", \">50K\", regex=False)\n",
        "\n",
        "# Encode categorical columns\n",
        "categorical_cols = [\"workclass\", \"education\", \"marital-status\", \"occupation\",\n",
        "                   \"relationship\", \"race\", \"sex\", \"native-country\"]\n",
        "encoders = {col: LabelEncoder() for col in categorical_cols}\n",
        "for col in categorical_cols:\n",
        "    data[col] = encoders[col].fit_transform(data[col])\n",
        "\n",
        "# Scale numerical columns\n",
        "numerical_cols = [\"age\", \"fnlwgt\", \"education-num\", \"capital-gain\",\n",
        "                  \"capital-loss\", \"hours-per-week\"]\n",
        "scaler = StandardScaler()\n",
        "data[numerical_cols] = scaler.fit_transform(data[numerical_cols])\n",
        "\n",
        "# Encode target\n",
        "data[\"income\"] = LabelEncoder().fit_transform(data[\"income\"])\n",
        "\n",
        "# Split\n",
        "X = data.drop(\"income\", axis=1)\n",
        "y = data[\"income\"]\n",
        "X_temp, X_test, y_temp, y_test = train_test_split(X, y, test_size=0.2, random_state=42)\n",
        "X_train, X_val, y_train, y_val = train_test_split(X_temp, y_temp, test_size=0.25, random_state=42)\n",
        "\n",
        "# Verify shapes\n",
        "print(f\"X_train: {X_train.shape}, y_train: {y_train.shape}\")\n",
        "print(f\"X_val: {X_val.shape}, y_val: {y_val.shape}\")\n",
        "print(f\"X_test: {X_test.shape}, y_test: {y_test.shape}\")"
      ],
      "metadata": {
        "colab": {
          "base_uri": "https://localhost:8080/"
        },
        "id": "V7PV41IzgljL",
        "outputId": "5cc6db02-48d2-4507-e325-beac12a300eb"
      },
      "execution_count": 16,
      "outputs": [
        {
          "output_type": "stream",
          "name": "stdout",
          "text": [
            "X_train: (27132, 14), y_train: (27132,)\n",
            "X_val: (9045, 14), y_val: (9045,)\n",
            "X_test: (9045, 14), y_test: (9045,)\n"
          ]
        }
      ]
    },
    {
      "cell_type": "code",
      "source": [
        "# Check missing values\n",
        "print(data.isnull().sum())\n",
        "\n",
        "# Check unique values in 'income'\n",
        "print(data[\"income\"].value_counts())\n",
        "\n",
        "# Basic stats\n",
        "print(data.describe())\n",
        "\n",
        "# Plot age distribution\n",
        "import matplotlib.pyplot as plt\n",
        "plt.hist(data[\"age\"], bins=20)\n",
        "plt.xlabel(\"Age\")\n",
        "plt.ylabel(\"Count\")\n",
        "plt.title(\"Age Distribution\")\n",
        "plt.show()"
      ],
      "metadata": {
        "colab": {
          "base_uri": "https://localhost:8080/",
          "height": 1000
        },
        "id": "DkIeKDTnhOx-",
        "outputId": "44774519-d587-4799-d2e1-8a3bab84563b"
      },
      "execution_count": 17,
      "outputs": [
        {
          "output_type": "stream",
          "name": "stdout",
          "text": [
            "age               0\n",
            "workclass         0\n",
            "fnlwgt            0\n",
            "education         0\n",
            "education-num     0\n",
            "marital-status    0\n",
            "occupation        0\n",
            "relationship      0\n",
            "race              0\n",
            "sex               0\n",
            "capital-gain      0\n",
            "capital-loss      0\n",
            "hours-per-week    0\n",
            "native-country    0\n",
            "income            0\n",
            "dtype: int64\n",
            "income\n",
            "0    34014\n",
            "1    11208\n",
            "Name: count, dtype: int64\n",
            "                age     workclass        fnlwgt     education  education-num  \\\n",
            "count  4.522200e+04  45222.000000  4.522200e+04  45222.000000   4.522200e+04   \n",
            "mean  -2.325424e-17      2.204502  5.192923e-17     10.313321   1.655293e-16   \n",
            "std    1.000011e+00      0.958122  1.000011e+00      3.817014   1.000011e+00   \n",
            "min   -1.630231e+00      0.000000 -1.668365e+00      0.000000  -3.571870e+00   \n",
            "25%   -7.980149e-01      2.000000 -6.848527e-01      9.000000  -4.381216e-01   \n",
            "50%   -1.171110e-01      2.000000 -1.080930e-01     11.000000  -4.640300e-02   \n",
            "75%    6.394489e-01      2.000000  4.561924e-01     12.000000   1.128753e+00   \n",
            "max    3.892656e+00      6.000000  1.231247e+01     15.000000   2.303909e+00   \n",
            "\n",
            "       marital-status    occupation  relationship          race           sex  \\\n",
            "count    45222.000000  45222.000000  45222.000000  45222.000000  45222.000000   \n",
            "mean         2.585180      5.969572      1.412697      3.680288      0.675048   \n",
            "std          1.500458      4.026400      1.597227      0.832353      0.468362   \n",
            "min          0.000000      0.000000      0.000000      0.000000      0.000000   \n",
            "25%          2.000000      2.000000      0.000000      4.000000      0.000000   \n",
            "50%          2.000000      6.000000      1.000000      4.000000      1.000000   \n",
            "75%          4.000000      9.000000      3.000000      4.000000      1.000000   \n",
            "max          6.000000     13.000000      5.000000      4.000000      1.000000   \n",
            "\n",
            "       capital-gain  capital-loss  hours-per-week  native-country  \\\n",
            "count  4.522200e+04  4.522200e+04    4.522200e+04    45222.000000   \n",
            "mean  -1.971897e-17  2.498260e-17    2.144732e-16       36.401022   \n",
            "std    1.000011e+00  1.000011e+00    1.000011e+00        6.079856   \n",
            "min   -1.467332e-01 -2.187803e-01   -3.326124e+00        0.000000   \n",
            "25%   -1.467332e-01 -2.187803e-01   -7.812006e-02       38.000000   \n",
            "50%   -1.467332e-01 -2.187803e-01   -7.812006e-02       38.000000   \n",
            "75%   -1.467332e-01 -2.187803e-01    3.382907e-01       38.000000   \n",
            "max    1.317519e+01  1.053806e+01    4.835527e+00       40.000000   \n",
            "\n",
            "             income  \n",
            "count  45222.000000  \n",
            "mean       0.247844  \n",
            "std        0.431766  \n",
            "min        0.000000  \n",
            "25%        0.000000  \n",
            "50%        0.000000  \n",
            "75%        0.000000  \n",
            "max        1.000000  \n"
          ]
        },
        {
          "output_type": "display_data",
          "data": {
            "text/plain": [
              "<Figure size 640x480 with 1 Axes>"
            ],
            "image/png": "[encoded data removed]"
          },
          "metadata": {}
        }
      ]
    },
    {
      "cell_type": "code",
      "source": [
        "from sklearn.preprocessing import LabelEncoder\n",
        "\n",
        "# List categorical columns\n",
        "categorical_cols = [\n",
        "    \"workclass\", \"education\", \"marital-status\", \"occupation\",\n",
        "    \"relationship\", \"race\", \"sex\", \"native-country\", \"income\"\n",
        "]\n",
        "\n",
        "# Encode categorical columns\n",
        "encoders = {}\n",
        "for col in categorical_cols:\n",
        "    encoders[col] = LabelEncoder()\n",
        "    data[col] = encoders[col].fit_transform(data[col])\n",
        "\n",
        "# Verify\n",
        "print(data.head())"
      ],
      "metadata": {
        "colab": {
          "base_uri": "https://localhost:8080/"
        },
        "id": "S92YyT5qkmSY",
        "outputId": "455cf60e-3a46-4565-bca8-65d78c9490e4"
      },
      "execution_count": 18,
      "outputs": [
        {
          "output_type": "stream",
          "name": "stdout",
          "text": [
            "        age  workclass    fnlwgt  education  education-num  marital-status  \\\n",
            "0  0.034201          5 -1.062295          9       1.128753               4   \n",
            "1  0.866417          4 -1.007438          9       1.128753               2   \n",
            "2 -0.041455          2  0.245284         11      -0.438122               0   \n",
            "3  1.093385          2  0.425853          1      -1.221559               2   \n",
            "4 -0.798015          2  1.407393          9       1.128753               2   \n",
            "\n",
            "   occupation  relationship  race  sex  capital-gain  capital-loss  \\\n",
            "0           0             1     4    1      0.142888      -0.21878   \n",
            "1           3             0     4    1     -0.146733      -0.21878   \n",
            "2           5             1     4    1     -0.146733      -0.21878   \n",
            "3           5             0     2    1     -0.146733      -0.21878   \n",
            "4           9             5     2    0     -0.146733      -0.21878   \n",
            "\n",
            "   hours-per-week  native-country  income  \n",
            "0       -0.078120              38       0  \n",
            "1       -2.326738              38       0  \n",
            "2       -0.078120              38       0  \n",
            "3       -0.078120              38       0  \n",
            "4       -0.078120               4       0  \n"
          ]
        }
      ]
    },
    {
      "cell_type": "code",
      "source": [
        "from sklearn.preprocessing import StandardScaler\n",
        "\n",
        "# List numerical columns\n",
        "numerical_cols = [\n",
        "    \"age\", \"fnlwgt\", \"education-num\", \"capital-gain\",\n",
        "    \"capital-loss\", \"hours-per-week\"\n",
        "]\n",
        "\n",
        "# Scale numerical columns\n",
        "scaler = StandardScaler()\n",
        "data[numerical_cols] = scaler.fit_transform(data[numerical_cols])\n",
        "\n",
        "# Verify\n",
        "print(data[numerical_cols].describe())"
      ],
      "metadata": {
        "colab": {
          "base_uri": "https://localhost:8080/"
        },
        "id": "Uvu_KAcilEoH",
        "outputId": "d2f35f03-2d82-46c8-f496-1ceaa4c6c750"
      },
      "execution_count": 19,
      "outputs": [
        {
          "output_type": "stream",
          "name": "stdout",
          "text": [
            "                age        fnlwgt  education-num  capital-gain  capital-loss  \\\n",
            "count  4.522200e+04  4.522200e+04   4.522200e+04  4.522200e+04  4.522200e+04   \n",
            "mean  -2.136876e-17  3.024622e-17  -3.158177e-17 -2.356849e-19  2.435410e-17   \n",
            "std    1.000011e+00  1.000011e+00   1.000011e+00  1.000011e+00  1.000011e+00   \n",
            "min   -1.630231e+00 -1.668365e+00  -3.571870e+00 -1.467332e-01 -2.187803e-01   \n",
            "25%   -7.980149e-01 -6.848527e-01  -4.381216e-01 -1.467332e-01 -2.187803e-01   \n",
            "50%   -1.171110e-01 -1.080930e-01  -4.640300e-02 -1.467332e-01 -2.187803e-01   \n",
            "75%    6.394489e-01  4.561924e-01   1.128753e+00 -1.467332e-01 -2.187803e-01   \n",
            "max    3.892656e+00  1.231247e+01   2.303909e+00  1.317519e+01  1.053806e+01   \n",
            "\n",
            "       hours-per-week  \n",
            "count    4.522200e+04  \n",
            "mean     3.849519e-17  \n",
            "std      1.000011e+00  \n",
            "min     -3.326124e+00  \n",
            "25%     -7.812006e-02  \n",
            "50%     -7.812006e-02  \n",
            "75%      3.382907e-01  \n",
            "max      4.835527e+00  \n"
          ]
        }
      ]
    },
    {
      "cell_type": "markdown",
      "source": [
        "## Target Model Training <a id=\"target\"></a>\n",
        "Train a neural network to predict income (>50K vs. <=50K). Used 100 epochs to encourage overfitting, boosting MIA success."
      ],
      "metadata": {
        "id": "eWonz7rVhUsz"
      }
    },
    {
      "cell_type": "code",
      "source": [
        "import tensorflow as tf\n",
        "from tensorflow.keras.models import Sequential\n",
        "from tensorflow.keras.layers import Dense\n",
        "\n",
        "# Define model\n",
        "model = Sequential([\n",
        "    Dense(128, activation=\"relu\", input_shape=(X_train.shape[1],)),\n",
        "    Dense(64, activation=\"relu\"),\n",
        "    Dense(32, activation=\"relu\"),\n",
        "    Dense(1, activation=\"sigmoid\")\n",
        "])\n",
        "\n",
        "# Compile model\n",
        "model.compile(optimizer=\"adam\", loss=\"binary_crossentropy\", metrics=[\"accuracy\"])\n",
        "\n",
        "# Summary\n",
        "model.summary()"
      ],
      "metadata": {
        "colab": {
          "base_uri": "https://localhost:8080/",
          "height": 313
        },
        "id": "qFDruu0blMpi",
        "outputId": "e614822f-9d43-401f-c3e3-66878bf12105"
      },
      "execution_count": 20,
      "outputs": [
        {
          "output_type": "stream",
          "name": "stderr",
          "text": [
            "/usr/local/lib/python3.11/dist-packages/keras/src/layers/core/dense.py:87: UserWarning: Do not pass an `input_shape`/`input_dim` argument to a layer. When using Sequential models, prefer using an `Input(shape)` object as the first layer in the model instead.\n",
            "  super().__init__(activity_regularizer=activity_regularizer, **kwargs)\n"
          ]
        },
        {
          "output_type": "display_data",
          "data": {
            "text/plain": [
              "\u001b[1mModel: \"sequential\"\u001b[0m\n"
            ],
            "text/html": [
              "<pre style=\"white-space:pre;overflow-x:auto;line-height:normal;font-family:Menlo,'DejaVu Sans Mono',consolas,'Courier New',monospace\"><span style=\"font-weight: bold\">Model: \"sequential\"</span>\n",
              "</pre>\n"
            ]
          },
          "metadata": {}
        },
        {
          "output_type": "display_data",
          "data": {
            "text/plain": [
              "┏━━━━━━━━━━━━━━━━━━━━━━━━━━━━━━━━━┳━━━━━━━━━━━━━━━━━━━━━━━━┳━━━━━━━━━━━━━━━┓\n",
              "┃\u001b[1m \u001b[0m\u001b[1mLayer (type)                   \u001b[0m\u001b[1m \u001b[0m┃\u001b[1m \u001b[0m\u001b[1mOutput Shape          \u001b[0m\u001b[1m \u001b[0m┃\u001b[1m \u001b[0m\u001b[1m      Param #\u001b[0m\u001b[1m \u001b[0m┃\n",
              "┡━━━━━━━━━━━━━━━━━━━━━━━━━━━━━━━━━╇━━━━━━━━━━━━━━━━━━━━━━━━╇━━━━━━━━━━━━━━━┩\n",
              "│ dense (\u001b[38;5;33mDense\u001b[0m)                   │ (\u001b[38;5;45mNone\u001b[0m, \u001b[38;5;34m128\u001b[0m)            │         \u001b[38;5;34m1,920\u001b[0m │\n",
              "├─────────────────────────────────┼────────────────────────┼───────────────┤\n",
              "│ dense_1 (\u001b[38;5;33mDense\u001b[0m)                 │ (\u001b[38;5;45mNone\u001b[0m, \u001b[38;5;34m64\u001b[0m)             │         \u001b[38;5;34m8,256\u001b[0m │\n",
              "├─────────────────────────────────┼────────────────────────┼───────────────┤\n",
              "│ dense_2 (\u001b[38;5;33mDense\u001b[0m)                 │ (\u001b[38;5;45mNone\u001b[0m, \u001b[38;5;34m32\u001b[0m)             │         \u001b[38;5;34m2,080\u001b[0m │\n",
              "├─────────────────────────────────┼────────────────────────┼───────────────┤\n",
              "│ dense_3 (\u001b[38;5;33mDense\u001b[0m)                 │ (\u001b[38;5;45mNone\u001b[0m, \u001b[38;5;34m1\u001b[0m)              │            \u001b[38;5;34m33\u001b[0m │\n",
              "└─────────────────────────────────┴────────────────────────┴───────────────┘\n"
            ],
            "text/html": [
              "<pre style=\"white-space:pre;overflow-x:auto;line-height:normal;font-family:Menlo,'DejaVu Sans Mono',consolas,'Courier New',monospace\">┏━━━━━━━━━━━━━━━━━━━━━━━━━━━━━━━━━┳━━━━━━━━━━━━━━━━━━━━━━━━┳━━━━━━━━━━━━━━━┓\n",
              "┃<span style=\"font-weight: bold\"> Layer (type)                    </span>┃<span style=\"font-weight: bold\"> Output Shape           </span>┃<span style=\"font-weight: bold\">       Param # </span>┃\n",
              "┡━━━━━━━━━━━━━━━━━━━━━━━━━━━━━━━━━╇━━━━━━━━━━━━━━━━━━━━━━━━╇━━━━━━━━━━━━━━━┩\n",
              "│ dense (<span style=\"color: #0087ff; text-decoration-color: #0087ff\">Dense</span>)                   │ (<span style=\"color: #00d7ff; text-decoration-color: #00d7ff\">None</span>, <span style=\"color: #00af00; text-decoration-color: #00af00\">128</span>)            │         <span style=\"color: #00af00; text-decoration-color: #00af00\">1,920</span> │\n",
              "├─────────────────────────────────┼────────────────────────┼───────────────┤\n",
              "│ dense_1 (<span style=\"color: #0087ff; text-decoration-color: #0087ff\">Dense</span>)                 │ (<span style=\"color: #00d7ff; text-decoration-color: #00d7ff\">None</span>, <span style=\"color: #00af00; text-decoration-color: #00af00\">64</span>)             │         <span style=\"color: #00af00; text-decoration-color: #00af00\">8,256</span> │\n",
              "├─────────────────────────────────┼────────────────────────┼───────────────┤\n",
              "│ dense_2 (<span style=\"color: #0087ff; text-decoration-color: #0087ff\">Dense</span>)                 │ (<span style=\"color: #00d7ff; text-decoration-color: #00d7ff\">None</span>, <span style=\"color: #00af00; text-decoration-color: #00af00\">32</span>)             │         <span style=\"color: #00af00; text-decoration-color: #00af00\">2,080</span> │\n",
              "├─────────────────────────────────┼────────────────────────┼───────────────┤\n",
              "│ dense_3 (<span style=\"color: #0087ff; text-decoration-color: #0087ff\">Dense</span>)                 │ (<span style=\"color: #00d7ff; text-decoration-color: #00d7ff\">None</span>, <span style=\"color: #00af00; text-decoration-color: #00af00\">1</span>)              │            <span style=\"color: #00af00; text-decoration-color: #00af00\">33</span> │\n",
              "└─────────────────────────────────┴────────────────────────┴───────────────┘\n",
              "</pre>\n"
            ]
          },
          "metadata": {}
        },
        {
          "output_type": "display_data",
          "data": {
            "text/plain": [
              "\u001b[1m Total params: \u001b[0m\u001b[38;5;34m12,289\u001b[0m (48.00 KB)\n"
            ],
            "text/html": [
              "<pre style=\"white-space:pre;overflow-x:auto;line-height:normal;font-family:Menlo,'DejaVu Sans Mono',consolas,'Courier New',monospace\"><span style=\"font-weight: bold\"> Total params: </span><span style=\"color: #00af00; text-decoration-color: #00af00\">12,289</span> (48.00 KB)\n",
              "</pre>\n"
            ]
          },
          "metadata": {}
        },
        {
          "output_type": "display_data",
          "data": {
            "text/plain": [
              "\u001b[1m Trainable params: \u001b[0m\u001b[38;5;34m12,289\u001b[0m (48.00 KB)\n"
            ],
            "text/html": [
              "<pre style=\"white-space:pre;overflow-x:auto;line-height:normal;font-family:Menlo,'DejaVu Sans Mono',consolas,'Courier New',monospace\"><span style=\"font-weight: bold\"> Trainable params: </span><span style=\"color: #00af00; text-decoration-color: #00af00\">12,289</span> (48.00 KB)\n",
              "</pre>\n"
            ]
          },
          "metadata": {}
        },
        {
          "output_type": "display_data",
          "data": {
            "text/plain": [
              "\u001b[1m Non-trainable params: \u001b[0m\u001b[38;5;34m0\u001b[0m (0.00 B)\n"
            ],
            "text/html": [
              "<pre style=\"white-space:pre;overflow-x:auto;line-height:normal;font-family:Menlo,'DejaVu Sans Mono',consolas,'Courier New',monospace\"><span style=\"font-weight: bold\"> Non-trainable params: </span><span style=\"color: #00af00; text-decoration-color: #00af00\">0</span> (0.00 B)\n",
              "</pre>\n"
            ]
          },
          "metadata": {}
        }
      ]
    },
    {
      "cell_type": "markdown",
      "source": [],
      "metadata": {
        "id": "mbaTQa_AhWgA"
      }
    },
    {
      "cell_type": "code",
      "source": [
        "# Define model\n",
        "model = Sequential([\n",
        "    Dense(128, activation=\"relu\", input_shape=(X_train.shape[1],)),\n",
        "    Dense(64, activation=\"relu\"),\n",
        "    Dense(32, activation=\"relu\"),\n",
        "    Dense(1, activation=\"sigmoid\")\n",
        "])\n",
        "\n",
        "# Compile and train\n",
        "model.compile(optimizer=\"adam\", loss=\"binary_crossentropy\", metrics=[\"accuracy\"])\n",
        "history = model.fit(\n",
        "    X_train, y_train,\n",
        "    validation_data=(X_val, y_val),\n",
        "    epochs=100,\n",
        "    batch_size=32,\n",
        "    verbose=1\n",
        ")\n",
        "\n",
        "# Evaluate\n",
        "test_loss, test_accuracy = model.evaluate(X_test, y_test)\n",
        "print(f\"Test Accuracy: {test_accuracy:.4f}\")\n",
        "\n",
        "# Plot training\n",
        "plt.plot(history.history[\"accuracy\"], label=\"Train Accuracy\")\n",
        "plt.plot(history.history[\"val_accuracy\"], label=\"Validation Accuracy\")\n",
        "plt.xlabel(\"Epoch\")\n",
        "plt.ylabel(\"Accuracy\")\n",
        "plt.title(\"Target Model Training\")\n",
        "plt.legend()\n",
        "plt.savefig(\"training_accuracy.png\")\n",
        "plt.show()"
      ],
      "metadata": {
        "colab": {
          "base_uri": "https://localhost:8080/",
          "height": 1000
        },
        "id": "KhCXA3X6hX6_",
        "outputId": "13f2c7ba-1418-461d-e86e-ea40cffec74f"
      },
      "execution_count": 21,
      "outputs": [
        {
          "output_type": "stream",
          "name": "stdout",
          "text": [
            "Epoch 1/100\n",
            "\u001b[1m848/848\u001b[0m \u001b[32m━━━━━━━━━━━━━━━━━━━━\u001b[0m\u001b[37m\u001b[0m \u001b[1m5s\u001b[0m 3ms/step - accuracy: 0.7910 - loss: 0.4492 - val_accuracy: 0.8338 - val_loss: 0.3487\n",
            "Epoch 2/100\n",
            "\u001b[1m848/848\u001b[0m \u001b[32m━━━━━━━━━━━━━━━━━━━━\u001b[0m\u001b[37m\u001b[0m \u001b[1m4s\u001b[0m 5ms/step - accuracy: 0.8326 - loss: 0.3517 - val_accuracy: 0.8331 - val_loss: 0.3441\n",
            "Epoch 3/100\n",
            "\u001b[1m848/848\u001b[0m \u001b[32m━━━━━━━━━━━━━━━━━━━━\u001b[0m\u001b[37m\u001b[0m \u001b[1m3s\u001b[0m 3ms/step - accuracy: 0.8337 - loss: 0.3507 - val_accuracy: 0.8366 - val_loss: 0.3449\n",
            "Epoch 4/100\n",
            "\u001b[1m848/848\u001b[0m \u001b[32m━━━━━━━━━━━━━━━━━━━━\u001b[0m\u001b[37m\u001b[0m \u001b[1m3s\u001b[0m 3ms/step - accuracy: 0.8399 - loss: 0.3387 - val_accuracy: 0.8421 - val_loss: 0.3344\n",
            "Epoch 5/100\n",
            "\u001b[1m848/848\u001b[0m \u001b[32m━━━━━━━━━━━━━━━━━━━━\u001b[0m\u001b[37m\u001b[0m \u001b[1m7s\u001b[0m 5ms/step - accuracy: 0.8416 - loss: 0.3344 - val_accuracy: 0.8385 - val_loss: 0.3390\n",
            "Epoch 6/100\n",
            "\u001b[1m848/848\u001b[0m \u001b[32m━━━━━━━━━━━━━━━━━━━━\u001b[0m\u001b[37m\u001b[0m \u001b[1m4s\u001b[0m 3ms/step - accuracy: 0.8427 - loss: 0.3317 - val_accuracy: 0.8293 - val_loss: 0.3477\n",
            "Epoch 7/100\n",
            "\u001b[1m848/848\u001b[0m \u001b[32m━━━━━━━━━━━━━━━━━━━━\u001b[0m\u001b[37m\u001b[0m \u001b[1m3s\u001b[0m 3ms/step - accuracy: 0.8408 - loss: 0.3373 - val_accuracy: 0.8398 - val_loss: 0.3409\n",
            "Epoch 8/100\n",
            "\u001b[1m848/848\u001b[0m \u001b[32m━━━━━━━━━━━━━━━━━━━━\u001b[0m\u001b[37m\u001b[0m \u001b[1m6s\u001b[0m 5ms/step - accuracy: 0.8396 - loss: 0.3359 - val_accuracy: 0.8431 - val_loss: 0.3302\n",
            "Epoch 9/100\n",
            "\u001b[1m848/848\u001b[0m \u001b[32m━━━━━━━━━━━━━━━━━━━━\u001b[0m\u001b[37m\u001b[0m \u001b[1m3s\u001b[0m 3ms/step - accuracy: 0.8459 - loss: 0.3276 - val_accuracy: 0.8427 - val_loss: 0.3385\n",
            "Epoch 10/100\n",
            "\u001b[1m848/848\u001b[0m \u001b[32m━━━━━━━━━━━━━━━━━━━━\u001b[0m\u001b[37m\u001b[0m \u001b[1m3s\u001b[0m 3ms/step - accuracy: 0.8459 - loss: 0.3271 - val_accuracy: 0.8405 - val_loss: 0.3324\n",
            "Epoch 11/100\n",
            "\u001b[1m848/848\u001b[0m \u001b[32m━━━━━━━━━━━━━━━━━━━━\u001b[0m\u001b[37m\u001b[0m \u001b[1m6s\u001b[0m 4ms/step - accuracy: 0.8467 - loss: 0.3275 - val_accuracy: 0.8425 - val_loss: 0.3323\n",
            "Epoch 12/100\n",
            "\u001b[1m848/848\u001b[0m \u001b[32m━━━━━━━━━━━━━━━━━━━━\u001b[0m\u001b[37m\u001b[0m \u001b[1m4s\u001b[0m 3ms/step - accuracy: 0.8456 - loss: 0.3243 - val_accuracy: 0.8296 - val_loss: 0.3458\n",
            "Epoch 13/100\n",
            "\u001b[1m848/848\u001b[0m \u001b[32m━━━━━━━━━━━━━━━━━━━━\u001b[0m\u001b[37m\u001b[0m \u001b[1m5s\u001b[0m 3ms/step - accuracy: 0.8462 - loss: 0.3252 - val_accuracy: 0.8426 - val_loss: 0.3312\n",
            "Epoch 14/100\n",
            "\u001b[1m848/848\u001b[0m \u001b[32m━━━━━━━━━━━━━━━━━━━━\u001b[0m\u001b[37m\u001b[0m \u001b[1m5s\u001b[0m 3ms/step - accuracy: 0.8497 - loss: 0.3226 - val_accuracy: 0.8287 - val_loss: 0.3465\n",
            "Epoch 15/100\n",
            "\u001b[1m848/848\u001b[0m \u001b[32m━━━━━━━━━━━━━━━━━━━━\u001b[0m\u001b[37m\u001b[0m \u001b[1m5s\u001b[0m 3ms/step - accuracy: 0.8504 - loss: 0.3187 - val_accuracy: 0.8463 - val_loss: 0.3285\n",
            "Epoch 16/100\n",
            "\u001b[1m848/848\u001b[0m \u001b[32m━━━━━━━━━━━━━━━━━━━━\u001b[0m\u001b[37m\u001b[0m \u001b[1m3s\u001b[0m 3ms/step - accuracy: 0.8504 - loss: 0.3165 - val_accuracy: 0.8442 - val_loss: 0.3337\n",
            "Epoch 17/100\n",
            "\u001b[1m848/848\u001b[0m \u001b[32m━━━━━━━━━━━━━━━━━━━━\u001b[0m\u001b[37m\u001b[0m \u001b[1m4s\u001b[0m 5ms/step - accuracy: 0.8484 - loss: 0.3210 - val_accuracy: 0.8364 - val_loss: 0.3377\n",
            "Epoch 18/100\n",
            "\u001b[1m848/848\u001b[0m \u001b[32m━━━━━━━━━━━━━━━━━━━━\u001b[0m\u001b[37m\u001b[0m \u001b[1m4s\u001b[0m 3ms/step - accuracy: 0.8522 - loss: 0.3150 - val_accuracy: 0.8433 - val_loss: 0.3378\n",
            "Epoch 19/100\n",
            "\u001b[1m848/848\u001b[0m \u001b[32m━━━━━━━━━━━━━━━━━━━━\u001b[0m\u001b[37m\u001b[0m \u001b[1m4s\u001b[0m 5ms/step - accuracy: 0.8535 - loss: 0.3115 - val_accuracy: 0.8479 - val_loss: 0.3292\n",
            "Epoch 20/100\n",
            "\u001b[1m848/848\u001b[0m \u001b[32m━━━━━━━━━━━━━━━━━━━━\u001b[0m\u001b[37m\u001b[0m \u001b[1m5s\u001b[0m 5ms/step - accuracy: 0.8549 - loss: 0.3112 - val_accuracy: 0.8457 - val_loss: 0.3280\n",
            "Epoch 21/100\n",
            "\u001b[1m848/848\u001b[0m \u001b[32m━━━━━━━━━━━━━━━━━━━━\u001b[0m\u001b[37m\u001b[0m \u001b[1m4s\u001b[0m 3ms/step - accuracy: 0.8527 - loss: 0.3109 - val_accuracy: 0.8450 - val_loss: 0.3310\n",
            "Epoch 22/100\n",
            "\u001b[1m848/848\u001b[0m \u001b[32m━━━━━━━━━━━━━━━━━━━━\u001b[0m\u001b[37m\u001b[0m \u001b[1m6s\u001b[0m 4ms/step - accuracy: 0.8513 - loss: 0.3127 - val_accuracy: 0.8450 - val_loss: 0.3322\n",
            "Epoch 23/100\n",
            "\u001b[1m848/848\u001b[0m \u001b[32m━━━━━━━━━━━━━━━━━━━━\u001b[0m\u001b[37m\u001b[0m \u001b[1m4s\u001b[0m 4ms/step - accuracy: 0.8558 - loss: 0.3081 - val_accuracy: 0.8460 - val_loss: 0.3413\n",
            "Epoch 24/100\n",
            "\u001b[1m848/848\u001b[0m \u001b[32m━━━━━━━━━━━━━━━━━━━━\u001b[0m\u001b[37m\u001b[0m \u001b[1m4s\u001b[0m 3ms/step - accuracy: 0.8547 - loss: 0.3067 - val_accuracy: 0.8460 - val_loss: 0.3331\n",
            "Epoch 25/100\n",
            "\u001b[1m848/848\u001b[0m \u001b[32m━━━━━━━━━━━━━━━━━━━━\u001b[0m\u001b[37m\u001b[0m \u001b[1m3s\u001b[0m 3ms/step - accuracy: 0.8556 - loss: 0.3083 - val_accuracy: 0.8374 - val_loss: 0.3407\n",
            "Epoch 26/100\n",
            "\u001b[1m848/848\u001b[0m \u001b[32m━━━━━━━━━━━━━━━━━━━━\u001b[0m\u001b[37m\u001b[0m \u001b[1m4s\u001b[0m 5ms/step - accuracy: 0.8544 - loss: 0.3077 - val_accuracy: 0.8448 - val_loss: 0.3360\n",
            "Epoch 27/100\n",
            "\u001b[1m848/848\u001b[0m \u001b[32m━━━━━━━━━━━━━━━━━━━━\u001b[0m\u001b[37m\u001b[0m \u001b[1m3s\u001b[0m 3ms/step - accuracy: 0.8569 - loss: 0.3092 - val_accuracy: 0.8458 - val_loss: 0.3389\n",
            "Epoch 28/100\n",
            "\u001b[1m848/848\u001b[0m \u001b[32m━━━━━━━━━━━━━━━━━━━━\u001b[0m\u001b[37m\u001b[0m \u001b[1m5s\u001b[0m 3ms/step - accuracy: 0.8574 - loss: 0.3060 - val_accuracy: 0.8440 - val_loss: 0.3461\n",
            "Epoch 29/100\n",
            "\u001b[1m848/848\u001b[0m \u001b[32m━━━━━━━━━━━━━━━━━━━━\u001b[0m\u001b[37m\u001b[0m \u001b[1m3s\u001b[0m 3ms/step - accuracy: 0.8614 - loss: 0.3019 - val_accuracy: 0.8448 - val_loss: 0.3406\n",
            "Epoch 30/100\n",
            "\u001b[1m848/848\u001b[0m \u001b[32m━━━━━━━━━━━━━━━━━━━━\u001b[0m\u001b[37m\u001b[0m \u001b[1m4s\u001b[0m 4ms/step - accuracy: 0.8589 - loss: 0.3023 - val_accuracy: 0.8444 - val_loss: 0.3395\n",
            "Epoch 31/100\n",
            "\u001b[1m848/848\u001b[0m \u001b[32m━━━━━━━━━━━━━━━━━━━━\u001b[0m\u001b[37m\u001b[0m \u001b[1m4s\u001b[0m 3ms/step - accuracy: 0.8598 - loss: 0.3051 - val_accuracy: 0.8427 - val_loss: 0.3455\n",
            "Epoch 32/100\n",
            "\u001b[1m848/848\u001b[0m \u001b[32m━━━━━━━━━━━━━━━━━━━━\u001b[0m\u001b[37m\u001b[0m \u001b[1m3s\u001b[0m 3ms/step - accuracy: 0.8580 - loss: 0.3030 - val_accuracy: 0.8473 - val_loss: 0.3411\n",
            "Epoch 33/100\n",
            "\u001b[1m848/848\u001b[0m \u001b[32m━━━━━━━━━━━━━━━━━━━━\u001b[0m\u001b[37m\u001b[0m \u001b[1m3s\u001b[0m 4ms/step - accuracy: 0.8590 - loss: 0.3004 - val_accuracy: 0.8460 - val_loss: 0.3371\n",
            "Epoch 34/100\n",
            "\u001b[1m848/848\u001b[0m \u001b[32m━━━━━━━━━━━━━━━━━━━━\u001b[0m\u001b[37m\u001b[0m \u001b[1m4s\u001b[0m 3ms/step - accuracy: 0.8593 - loss: 0.2993 - val_accuracy: 0.8480 - val_loss: 0.3405\n",
            "Epoch 35/100\n",
            "\u001b[1m848/848\u001b[0m \u001b[32m━━━━━━━━━━━━━━━━━━━━\u001b[0m\u001b[37m\u001b[0m \u001b[1m5s\u001b[0m 3ms/step - accuracy: 0.8614 - loss: 0.3008 - val_accuracy: 0.8482 - val_loss: 0.3516\n",
            "Epoch 36/100\n",
            "\u001b[1m848/848\u001b[0m \u001b[32m━━━━━━━━━━━━━━━━━━━━\u001b[0m\u001b[37m\u001b[0m \u001b[1m4s\u001b[0m 5ms/step - accuracy: 0.8623 - loss: 0.2970 - val_accuracy: 0.8452 - val_loss: 0.3489\n",
            "Epoch 37/100\n",
            "\u001b[1m848/848\u001b[0m \u001b[32m━━━━━━━━━━━━━━━━━━━━\u001b[0m\u001b[37m\u001b[0m \u001b[1m2s\u001b[0m 3ms/step - accuracy: 0.8674 - loss: 0.2892 - val_accuracy: 0.8437 - val_loss: 0.3402\n",
            "Epoch 38/100\n",
            "\u001b[1m848/848\u001b[0m \u001b[32m━━━━━━━━━━━━━━━━━━━━\u001b[0m\u001b[37m\u001b[0m \u001b[1m3s\u001b[0m 3ms/step - accuracy: 0.8641 - loss: 0.2908 - val_accuracy: 0.8448 - val_loss: 0.3460\n",
            "Epoch 39/100\n",
            "\u001b[1m848/848\u001b[0m \u001b[32m━━━━━━━━━━━━━━━━━━━━\u001b[0m\u001b[37m\u001b[0m \u001b[1m3s\u001b[0m 3ms/step - accuracy: 0.8673 - loss: 0.2899 - val_accuracy: 0.8419 - val_loss: 0.3611\n",
            "Epoch 40/100\n",
            "\u001b[1m848/848\u001b[0m \u001b[32m━━━━━━━━━━━━━━━━━━━━\u001b[0m\u001b[37m\u001b[0m \u001b[1m4s\u001b[0m 4ms/step - accuracy: 0.8658 - loss: 0.2922 - val_accuracy: 0.8453 - val_loss: 0.3579\n",
            "Epoch 41/100\n",
            "\u001b[1m848/848\u001b[0m \u001b[32m━━━━━━━━━━━━━━━━━━━━\u001b[0m\u001b[37m\u001b[0m \u001b[1m4s\u001b[0m 3ms/step - accuracy: 0.8636 - loss: 0.2915 - val_accuracy: 0.8426 - val_loss: 0.3605\n",
            "Epoch 42/100\n",
            "\u001b[1m848/848\u001b[0m \u001b[32m━━━━━━━━━━━━━━━━━━━━\u001b[0m\u001b[37m\u001b[0m \u001b[1m3s\u001b[0m 3ms/step - accuracy: 0.8592 - loss: 0.2949 - val_accuracy: 0.8447 - val_loss: 0.3584\n",
            "Epoch 43/100\n",
            "\u001b[1m848/848\u001b[0m \u001b[32m━━━━━━━━━━━━━━━━━━━━\u001b[0m\u001b[37m\u001b[0m \u001b[1m7s\u001b[0m 5ms/step - accuracy: 0.8630 - loss: 0.2925 - val_accuracy: 0.8485 - val_loss: 0.3613\n",
            "Epoch 44/100\n",
            "\u001b[1m848/848\u001b[0m \u001b[32m━━━━━━━━━━━━━━━━━━━━\u001b[0m\u001b[37m\u001b[0m \u001b[1m3s\u001b[0m 3ms/step - accuracy: 0.8664 - loss: 0.2837 - val_accuracy: 0.8434 - val_loss: 0.3680\n",
            "Epoch 45/100\n",
            "\u001b[1m848/848\u001b[0m \u001b[32m━━━━━━━━━━━━━━━━━━━━\u001b[0m\u001b[37m\u001b[0m \u001b[1m3s\u001b[0m 3ms/step - accuracy: 0.8636 - loss: 0.2882 - val_accuracy: 0.8404 - val_loss: 0.3614\n",
            "Epoch 46/100\n",
            "\u001b[1m848/848\u001b[0m \u001b[32m━━━━━━━━━━━━━━━━━━━━\u001b[0m\u001b[37m\u001b[0m \u001b[1m6s\u001b[0m 4ms/step - accuracy: 0.8681 - loss: 0.2853 - val_accuracy: 0.8452 - val_loss: 0.3671\n",
            "Epoch 47/100\n",
            "\u001b[1m848/848\u001b[0m \u001b[32m━━━━━━━━━━━━━━━━━━━━\u001b[0m\u001b[37m\u001b[0m \u001b[1m4s\u001b[0m 3ms/step - accuracy: 0.8683 - loss: 0.2818 - val_accuracy: 0.8437 - val_loss: 0.3656\n",
            "Epoch 48/100\n",
            "\u001b[1m848/848\u001b[0m \u001b[32m━━━━━━━━━━━━━━━━━━━━\u001b[0m\u001b[37m\u001b[0m \u001b[1m5s\u001b[0m 3ms/step - accuracy: 0.8682 - loss: 0.2786 - val_accuracy: 0.8460 - val_loss: 0.3706\n",
            "Epoch 49/100\n",
            "\u001b[1m848/848\u001b[0m \u001b[32m━━━━━━━━━━━━━━━━━━━━\u001b[0m\u001b[37m\u001b[0m \u001b[1m5s\u001b[0m 3ms/step - accuracy: 0.8667 - loss: 0.2864 - val_accuracy: 0.8449 - val_loss: 0.3699\n",
            "Epoch 50/100\n",
            "\u001b[1m848/848\u001b[0m \u001b[32m━━━━━━━━━━━━━━━━━━━━\u001b[0m\u001b[37m\u001b[0m \u001b[1m5s\u001b[0m 3ms/step - accuracy: 0.8646 - loss: 0.2832 - val_accuracy: 0.8428 - val_loss: 0.3727\n",
            "Epoch 51/100\n",
            "\u001b[1m848/848\u001b[0m \u001b[32m━━━━━━━━━━━━━━━━━━━━\u001b[0m\u001b[37m\u001b[0m \u001b[1m6s\u001b[0m 4ms/step - accuracy: 0.8695 - loss: 0.2762 - val_accuracy: 0.8434 - val_loss: 0.3695\n",
            "Epoch 52/100\n",
            "\u001b[1m848/848\u001b[0m \u001b[32m━━━━━━━━━━━━━━━━━━━━\u001b[0m\u001b[37m\u001b[0m \u001b[1m4s\u001b[0m 3ms/step - accuracy: 0.8679 - loss: 0.2789 - val_accuracy: 0.8399 - val_loss: 0.3799\n",
            "Epoch 53/100\n",
            "\u001b[1m848/848\u001b[0m \u001b[32m━━━━━━━━━━━━━━━━━━━━\u001b[0m\u001b[37m\u001b[0m \u001b[1m3s\u001b[0m 3ms/step - accuracy: 0.8678 - loss: 0.2796 - val_accuracy: 0.8409 - val_loss: 0.3810\n",
            "Epoch 54/100\n",
            "\u001b[1m848/848\u001b[0m \u001b[32m━━━━━━━━━━━━━━━━━━━━\u001b[0m\u001b[37m\u001b[0m \u001b[1m3s\u001b[0m 3ms/step - accuracy: 0.8705 - loss: 0.2784 - val_accuracy: 0.8410 - val_loss: 0.3855\n",
            "Epoch 55/100\n",
            "\u001b[1m848/848\u001b[0m \u001b[32m━━━━━━━━━━━━━━━━━━━━\u001b[0m\u001b[37m\u001b[0m \u001b[1m4s\u001b[0m 5ms/step - accuracy: 0.8697 - loss: 0.2747 - val_accuracy: 0.8353 - val_loss: 0.3898\n",
            "Epoch 56/100\n",
            "\u001b[1m848/848\u001b[0m \u001b[32m━━━━━━━━━━━━━━━━━━━━\u001b[0m\u001b[37m\u001b[0m \u001b[1m4s\u001b[0m 3ms/step - accuracy: 0.8658 - loss: 0.2855 - val_accuracy: 0.8418 - val_loss: 0.4017\n",
            "Epoch 57/100\n",
            "\u001b[1m848/848\u001b[0m \u001b[32m━━━━━━━━━━━━━━━━━━━━\u001b[0m\u001b[37m\u001b[0m \u001b[1m5s\u001b[0m 3ms/step - accuracy: 0.8689 - loss: 0.2810 - val_accuracy: 0.8448 - val_loss: 0.3900\n",
            "Epoch 58/100\n",
            "\u001b[1m848/848\u001b[0m \u001b[32m━━━━━━━━━━━━━━━━━━━━\u001b[0m\u001b[37m\u001b[0m \u001b[1m4s\u001b[0m 5ms/step - accuracy: 0.8706 - loss: 0.2745 - val_accuracy: 0.8432 - val_loss: 0.3969\n",
            "Epoch 59/100\n",
            "\u001b[1m848/848\u001b[0m \u001b[32m━━━━━━━━━━━━━━━━━━━━\u001b[0m\u001b[37m\u001b[0m \u001b[1m4s\u001b[0m 3ms/step - accuracy: 0.8681 - loss: 0.2800 - val_accuracy: 0.8426 - val_loss: 0.3977\n",
            "Epoch 60/100\n",
            "\u001b[1m848/848\u001b[0m \u001b[32m━━━━━━━━━━━━━━━━━━━━\u001b[0m\u001b[37m\u001b[0m \u001b[1m5s\u001b[0m 3ms/step - accuracy: 0.8685 - loss: 0.2811 - val_accuracy: 0.8400 - val_loss: 0.4013\n",
            "Epoch 61/100\n",
            "\u001b[1m848/848\u001b[0m \u001b[32m━━━━━━━━━━━━━━━━━━━━\u001b[0m\u001b[37m\u001b[0m \u001b[1m5s\u001b[0m 3ms/step - accuracy: 0.8733 - loss: 0.2707 - val_accuracy: 0.8428 - val_loss: 0.4103\n",
            "Epoch 62/100\n",
            "\u001b[1m848/848\u001b[0m \u001b[32m━━━━━━━━━━━━━━━━━━━━\u001b[0m\u001b[37m\u001b[0m \u001b[1m3s\u001b[0m 3ms/step - accuracy: 0.8733 - loss: 0.2751 - val_accuracy: 0.8434 - val_loss: 0.4034\n",
            "Epoch 63/100\n",
            "\u001b[1m848/848\u001b[0m \u001b[32m━━━━━━━━━━━━━━━━━━━━\u001b[0m\u001b[37m\u001b[0m \u001b[1m6s\u001b[0m 4ms/step - accuracy: 0.8687 - loss: 0.2742 - val_accuracy: 0.8418 - val_loss: 0.4074\n",
            "Epoch 64/100\n",
            "\u001b[1m848/848\u001b[0m \u001b[32m━━━━━━━━━━━━━━━━━━━━\u001b[0m\u001b[37m\u001b[0m \u001b[1m4s\u001b[0m 3ms/step - accuracy: 0.8675 - loss: 0.2759 - val_accuracy: 0.8388 - val_loss: 0.4052\n",
            "Epoch 65/100\n",
            "\u001b[1m848/848\u001b[0m \u001b[32m━━━━━━━━━━━━━━━━━━━━\u001b[0m\u001b[37m\u001b[0m \u001b[1m5s\u001b[0m 3ms/step - accuracy: 0.8714 - loss: 0.2693 - val_accuracy: 0.8417 - val_loss: 0.4124\n",
            "Epoch 66/100\n",
            "\u001b[1m848/848\u001b[0m \u001b[32m━━━━━━━━━━━━━━━━━━━━\u001b[0m\u001b[37m\u001b[0m \u001b[1m5s\u001b[0m 3ms/step - accuracy: 0.8785 - loss: 0.2664 - val_accuracy: 0.8386 - val_loss: 0.4108\n",
            "Epoch 67/100\n",
            "\u001b[1m848/848\u001b[0m \u001b[32m━━━━━━━━━━━━━━━━━━━━\u001b[0m\u001b[37m\u001b[0m \u001b[1m5s\u001b[0m 3ms/step - accuracy: 0.8725 - loss: 0.2683 - val_accuracy: 0.8401 - val_loss: 0.4178\n",
            "Epoch 68/100\n",
            "\u001b[1m848/848\u001b[0m \u001b[32m━━━━━━━━━━━━━━━━━━━━\u001b[0m\u001b[37m\u001b[0m \u001b[1m3s\u001b[0m 3ms/step - accuracy: 0.8685 - loss: 0.2766 - val_accuracy: 0.8453 - val_loss: 0.4082\n",
            "Epoch 69/100\n",
            "\u001b[1m848/848\u001b[0m \u001b[32m━━━━━━━━━━━━━━━━━━━━\u001b[0m\u001b[37m\u001b[0m \u001b[1m4s\u001b[0m 4ms/step - accuracy: 0.8751 - loss: 0.2632 - val_accuracy: 0.8387 - val_loss: 0.4196\n",
            "Epoch 70/100\n",
            "\u001b[1m848/848\u001b[0m \u001b[32m━━━━━━━━━━━━━━━━━━━━\u001b[0m\u001b[37m\u001b[0m \u001b[1m3s\u001b[0m 3ms/step - accuracy: 0.8736 - loss: 0.2688 - val_accuracy: 0.8411 - val_loss: 0.4207\n",
            "Epoch 71/100\n",
            "\u001b[1m848/848\u001b[0m \u001b[32m━━━━━━━━━━━━━━━━━━━━\u001b[0m\u001b[37m\u001b[0m \u001b[1m5s\u001b[0m 3ms/step - accuracy: 0.8743 - loss: 0.2639 - val_accuracy: 0.8431 - val_loss: 0.4207\n",
            "Epoch 72/100\n",
            "\u001b[1m848/848\u001b[0m \u001b[32m━━━━━━━━━━━━━━━━━━━━\u001b[0m\u001b[37m\u001b[0m \u001b[1m4s\u001b[0m 4ms/step - accuracy: 0.8746 - loss: 0.2671 - val_accuracy: 0.8408 - val_loss: 0.4477\n",
            "Epoch 73/100\n",
            "\u001b[1m848/848\u001b[0m \u001b[32m━━━━━━━━━━━━━━━━━━━━\u001b[0m\u001b[37m\u001b[0m \u001b[1m4s\u001b[0m 3ms/step - accuracy: 0.8791 - loss: 0.2629 - val_accuracy: 0.8411 - val_loss: 0.4291\n",
            "Epoch 74/100\n",
            "\u001b[1m848/848\u001b[0m \u001b[32m━━━━━━━━━━━━━━━━━━━━\u001b[0m\u001b[37m\u001b[0m \u001b[1m3s\u001b[0m 3ms/step - accuracy: 0.8763 - loss: 0.2595 - val_accuracy: 0.8381 - val_loss: 0.4354\n",
            "Epoch 75/100\n",
            "\u001b[1m848/848\u001b[0m \u001b[32m━━━━━━━━━━━━━━━━━━━━\u001b[0m\u001b[37m\u001b[0m \u001b[1m6s\u001b[0m 4ms/step - accuracy: 0.8761 - loss: 0.2672 - val_accuracy: 0.8354 - val_loss: 0.4636\n",
            "Epoch 76/100\n",
            "\u001b[1m848/848\u001b[0m \u001b[32m━━━━━━━━━━━━━━━━━━━━\u001b[0m\u001b[37m\u001b[0m \u001b[1m3s\u001b[0m 3ms/step - accuracy: 0.8747 - loss: 0.2665 - val_accuracy: 0.8430 - val_loss: 0.4482\n",
            "Epoch 77/100\n",
            "\u001b[1m848/848\u001b[0m \u001b[32m━━━━━━━━━━━━━━━━━━━━\u001b[0m\u001b[37m\u001b[0m \u001b[1m3s\u001b[0m 3ms/step - accuracy: 0.8807 - loss: 0.2605 - val_accuracy: 0.8386 - val_loss: 0.4388\n",
            "Epoch 78/100\n",
            "\u001b[1m848/848\u001b[0m \u001b[32m━━━━━━━━━━━━━━━━━━━━\u001b[0m\u001b[37m\u001b[0m \u001b[1m6s\u001b[0m 4ms/step - accuracy: 0.8754 - loss: 0.2608 - val_accuracy: 0.8363 - val_loss: 0.4462\n",
            "Epoch 79/100\n",
            "\u001b[1m848/848\u001b[0m \u001b[32m━━━━━━━━━━━━━━━━━━━━\u001b[0m\u001b[37m\u001b[0m \u001b[1m3s\u001b[0m 3ms/step - accuracy: 0.8782 - loss: 0.2577 - val_accuracy: 0.8331 - val_loss: 0.4560\n",
            "Epoch 80/100\n",
            "\u001b[1m848/848\u001b[0m \u001b[32m━━━━━━━━━━━━━━━━━━━━\u001b[0m\u001b[37m\u001b[0m \u001b[1m5s\u001b[0m 3ms/step - accuracy: 0.8774 - loss: 0.2582 - val_accuracy: 0.8369 - val_loss: 0.4614\n",
            "Epoch 81/100\n",
            "\u001b[1m848/848\u001b[0m \u001b[32m━━━━━━━━━━━━━━━━━━━━\u001b[0m\u001b[37m\u001b[0m \u001b[1m3s\u001b[0m 3ms/step - accuracy: 0.8786 - loss: 0.2557 - val_accuracy: 0.8383 - val_loss: 0.4472\n",
            "Epoch 82/100\n",
            "\u001b[1m848/848\u001b[0m \u001b[32m━━━━━━━━━━━━━━━━━━━━\u001b[0m\u001b[37m\u001b[0m \u001b[1m5s\u001b[0m 3ms/step - accuracy: 0.8809 - loss: 0.2544 - val_accuracy: 0.8423 - val_loss: 0.4574\n",
            "Epoch 83/100\n",
            "\u001b[1m848/848\u001b[0m \u001b[32m━━━━━━━━━━━━━━━━━━━━\u001b[0m\u001b[37m\u001b[0m \u001b[1m5s\u001b[0m 3ms/step - accuracy: 0.8779 - loss: 0.2569 - val_accuracy: 0.8381 - val_loss: 0.4573\n",
            "Epoch 84/100\n",
            "\u001b[1m848/848\u001b[0m \u001b[32m━━━━━━━━━━━━━━━━━━━━\u001b[0m\u001b[37m\u001b[0m \u001b[1m6s\u001b[0m 4ms/step - accuracy: 0.8795 - loss: 0.2549 - val_accuracy: 0.8400 - val_loss: 0.4624\n",
            "Epoch 85/100\n",
            "\u001b[1m848/848\u001b[0m \u001b[32m━━━━━━━━━━━━━━━━━━━━\u001b[0m\u001b[37m\u001b[0m \u001b[1m4s\u001b[0m 3ms/step - accuracy: 0.8815 - loss: 0.2513 - val_accuracy: 0.8396 - val_loss: 0.4565\n",
            "Epoch 86/100\n",
            "\u001b[1m848/848\u001b[0m \u001b[32m━━━━━━━━━━━━━━━━━━━━\u001b[0m\u001b[37m\u001b[0m \u001b[1m5s\u001b[0m 3ms/step - accuracy: 0.8757 - loss: 0.2568 - val_accuracy: 0.8374 - val_loss: 0.4709\n",
            "Epoch 87/100\n",
            "\u001b[1m848/848\u001b[0m \u001b[32m━━━━━━━━━━━━━━━━━━━━\u001b[0m\u001b[37m\u001b[0m \u001b[1m5s\u001b[0m 3ms/step - accuracy: 0.8767 - loss: 0.2527 - val_accuracy: 0.8363 - val_loss: 0.4772\n",
            "Epoch 88/100\n",
            "\u001b[1m848/848\u001b[0m \u001b[32m━━━━━━━━━━━━━━━━━━━━\u001b[0m\u001b[37m\u001b[0m \u001b[1m5s\u001b[0m 3ms/step - accuracy: 0.8766 - loss: 0.2542 - val_accuracy: 0.8373 - val_loss: 0.4701\n",
            "Epoch 89/100\n",
            "\u001b[1m848/848\u001b[0m \u001b[32m━━━━━━━━━━━━━━━━━━━━\u001b[0m\u001b[37m\u001b[0m \u001b[1m4s\u001b[0m 5ms/step - accuracy: 0.8825 - loss: 0.2513 - val_accuracy: 0.8413 - val_loss: 0.4642\n",
            "Epoch 90/100\n",
            "\u001b[1m848/848\u001b[0m \u001b[32m━━━━━━━━━━━━━━━━━━━━\u001b[0m\u001b[37m\u001b[0m \u001b[1m3s\u001b[0m 3ms/step - accuracy: 0.8791 - loss: 0.2541 - val_accuracy: 0.8369 - val_loss: 0.4824\n",
            "Epoch 91/100\n",
            "\u001b[1m848/848\u001b[0m \u001b[32m━━━━━━━━━━━━━━━━━━━━\u001b[0m\u001b[37m\u001b[0m \u001b[1m5s\u001b[0m 3ms/step - accuracy: 0.8822 - loss: 0.2512 - val_accuracy: 0.8341 - val_loss: 0.4894\n",
            "Epoch 92/100\n",
            "\u001b[1m848/848\u001b[0m \u001b[32m━━━━━━━━━━━━━━━━━━━━\u001b[0m\u001b[37m\u001b[0m \u001b[1m6s\u001b[0m 4ms/step - accuracy: 0.8829 - loss: 0.2495 - val_accuracy: 0.8339 - val_loss: 0.4813\n",
            "Epoch 93/100\n",
            "\u001b[1m848/848\u001b[0m \u001b[32m━━━━━━━━━━━━━━━━━━━━\u001b[0m\u001b[37m\u001b[0m \u001b[1m3s\u001b[0m 3ms/step - accuracy: 0.8800 - loss: 0.2532 - val_accuracy: 0.8386 - val_loss: 0.4874\n",
            "Epoch 94/100\n",
            "\u001b[1m848/848\u001b[0m \u001b[32m━━━━━━━━━━━━━━━━━━━━\u001b[0m\u001b[37m\u001b[0m \u001b[1m3s\u001b[0m 3ms/step - accuracy: 0.8818 - loss: 0.2446 - val_accuracy: 0.8371 - val_loss: 0.4831\n",
            "Epoch 95/100\n",
            "\u001b[1m848/848\u001b[0m \u001b[32m━━━━━━━━━━━━━━━━━━━━\u001b[0m\u001b[37m\u001b[0m \u001b[1m6s\u001b[0m 4ms/step - accuracy: 0.8802 - loss: 0.2502 - val_accuracy: 0.8344 - val_loss: 0.4778\n",
            "Epoch 96/100\n",
            "\u001b[1m848/848\u001b[0m \u001b[32m━━━━━━━━━━━━━━━━━━━━\u001b[0m\u001b[37m\u001b[0m \u001b[1m4s\u001b[0m 3ms/step - accuracy: 0.8846 - loss: 0.2483 - val_accuracy: 0.8369 - val_loss: 0.4848\n",
            "Epoch 97/100\n",
            "\u001b[1m848/848\u001b[0m \u001b[32m━━━━━━━━━━━━━━━━━━━━\u001b[0m\u001b[37m\u001b[0m \u001b[1m3s\u001b[0m 3ms/step - accuracy: 0.8804 - loss: 0.2470 - val_accuracy: 0.8373 - val_loss: 0.5220\n",
            "Epoch 98/100\n",
            "\u001b[1m848/848\u001b[0m \u001b[32m━━━━━━━━━━━━━━━━━━━━\u001b[0m\u001b[37m\u001b[0m \u001b[1m3s\u001b[0m 3ms/step - accuracy: 0.8851 - loss: 0.2464 - val_accuracy: 0.8338 - val_loss: 0.4932\n",
            "Epoch 99/100\n",
            "\u001b[1m848/848\u001b[0m \u001b[32m━━━━━━━━━━━━━━━━━━━━\u001b[0m\u001b[37m\u001b[0m \u001b[1m5s\u001b[0m 3ms/step - accuracy: 0.8778 - loss: 0.2556 - val_accuracy: 0.8325 - val_loss: 0.5150\n",
            "Epoch 100/100\n",
            "\u001b[1m848/848\u001b[0m \u001b[32m━━━━━━━━━━━━━━━━━━━━\u001b[0m\u001b[37m\u001b[0m \u001b[1m5s\u001b[0m 3ms/step - accuracy: 0.8881 - loss: 0.2377 - val_accuracy: 0.8373 - val_loss: 0.5098\n",
            "\u001b[1m283/283\u001b[0m \u001b[32m━━━━━━━━━━━━━━━━━━━━\u001b[0m\u001b[37m\u001b[0m \u001b[1m1s\u001b[0m 3ms/step - accuracy: 0.8467 - loss: 0.5220\n",
            "Test Accuracy: 0.8432\n"
          ]
        },
        {
          "output_type": "display_data",
          "data": {
            "text/plain": [
              "<Figure size 640x480 with 1 Axes>"
            ],
            "image/png": "[encoded data removed]"
          },
          "metadata": {}
        }
      ]
    },
    {
      "cell_type": "markdown",
      "source": [
        "## Shadow Models and MIA <a id=\"mia\"></a>\n",
        "Train 4 shadow models to mimic the target and build an attack model. Added loss feature to improve accuracy from 57% to ~65%.\n"
      ],
      "metadata": {
        "id": "-lcJiC-WhiTd"
      }
    },
    {
      "cell_type": "code",
      "source": [
        "import numpy as np\n",
        "\n",
        "# Predict probabilities\n",
        "train_preds = model.predict(X_train)\n",
        "test_preds = model.predict(X_test)\n",
        "\n",
        "# Save as arrays\n",
        "train_outputs = np.hstack([train_preds, 1 - train_preds])  # [P(>50K), P(<=50K)]\n",
        "test_outputs = np.hstack([test_preds, 1 - test_preds])\n",
        "\n",
        "# Verify\n",
        "print(\"Train outputs shape:\", train_outputs.shape)\n",
        "print(\"Test outputs shape:\", test_outputs.shape)"
      ],
      "metadata": {
        "colab": {
          "base_uri": "https://localhost:8080/"
        },
        "id": "HaZG2XHuhhOb",
        "outputId": "5560cfec-248e-4f3b-c4bc-1417d16dce0d"
      },
      "execution_count": 22,
      "outputs": [
        {
          "output_type": "stream",
          "name": "stdout",
          "text": [
            "\u001b[1m848/848\u001b[0m \u001b[32m━━━━━━━━━━━━━━━━━━━━\u001b[0m\u001b[37m\u001b[0m \u001b[1m1s\u001b[0m 2ms/step\n",
            "\u001b[1m283/283\u001b[0m \u001b[32m━━━━━━━━━━━━━━━━━━━━\u001b[0m\u001b[37m\u001b[0m \u001b[1m0s\u001b[0m 2ms/step\n",
            "Train outputs shape: (27132, 2)\n",
            "Test outputs shape: (9045, 2)\n"
          ]
        }
      ]
    },
    {
      "cell_type": "code",
      "source": [
        "import numpy as np\n",
        "import tensorflow as tf\n",
        "from tensorflow.keras import backend as K\n",
        "\n",
        "# Step 1: Convert labels to float32\n",
        "y_train_float = y_train.astype(np.float32)\n",
        "y_test_float = y_test.astype(np.float32)\n",
        "\n",
        "# Step 2: Squeeze predictions (remove extra dim)\n",
        "train_preds = np.squeeze(train_preds)\n",
        "test_preds = np.squeeze(test_preds)\n",
        "\n",
        "# Step 3: Calculate per-sample binary crossentropy using backend (no auto-mean!)\n",
        "train_loss = K.binary_crossentropy(y_train_float, train_preds).numpy()\n",
        "test_loss = K.binary_crossentropy(y_test_float, test_preds).numpy()\n",
        "\n",
        "# Step 4: Check shapes (should be long vectors, not scalars)\n",
        "print(\"train_loss shape:\", train_loss.shape)  # ✅ (27132,)\n",
        "print(\"test_loss shape:\", test_loss.shape)    # ✅ (9045,)\n",
        "\n",
        "# Step 5: Combine into final array [class1_prob, class0_prob, loss]\n",
        "train_outputs = np.hstack([\n",
        "    train_preds.reshape(-1, 1),\n",
        "    (1 - train_preds).reshape(-1, 1),\n",
        "    train_loss.reshape(-1, 1)\n",
        "])\n",
        "\n",
        "test_outputs = np.hstack([\n",
        "    test_preds.reshape(-1, 1),\n",
        "    (1 - test_preds).reshape(-1, 1),\n",
        "    test_loss.reshape(-1, 1)\n",
        "])\n",
        "\n",
        "# Step 6: Final shape check\n",
        "print(\"train_outputs shape:\", train_outputs.shape)  # ✅ (27132, 3)\n",
        "print(\"test_outputs shape:\", test_outputs.shape)    # ✅ (9045, 3)\n",
        "\n",
        "# Step 7: Optional mean loss\n",
        "print(\"Train BCE Loss (mean):\", np.mean(train_loss))\n",
        "print(\"Test BCE Loss (mean):\", np.mean(test_loss))\n"
      ],
      "metadata": {
        "colab": {
          "base_uri": "https://localhost:8080/"
        },
        "id": "OUa38seBlgUB",
        "outputId": "d12347cc-8ce6-4e71-dcd1-7178b1e4ae46"
      },
      "execution_count": 23,
      "outputs": [
        {
          "output_type": "stream",
          "name": "stdout",
          "text": [
            "train_loss shape: (27132,)\n",
            "test_loss shape: (9045,)\n",
            "train_outputs shape: (27132, 3)\n",
            "test_outputs shape: (9045, 3)\n",
            "Train BCE Loss (mean): 0.23768583\n",
            "Test BCE Loss (mean): 0.43200693\n"
          ]
        }
      ]
    },
    {
      "cell_type": "code",
      "source": [
        "from sklearn.model_selection import train_test_split\n",
        "from sklearn.linear_model import LogisticRegression\n",
        "from sklearn.metrics import accuracy_score, precision_score, recall_score, confusion_matrix\n",
        "import seaborn as sns\n",
        "import tensorflow as tf\n",
        "from tensorflow.keras.models import Sequential\n",
        "from tensorflow.keras.layers import Dense\n",
        "from tensorflow.keras import backend as K\n",
        "\n",
        "# Combine X_train + X_val to create shadow dataset\n",
        "X_shadow = pd.concat([X_train, X_val])\n",
        "y_shadow = pd.concat([y_train, y_val])\n",
        "\n",
        "shadow_splits = []\n",
        "for i in range(4):\n",
        "    shadow_train, shadow_test, shadow_y_train, shadow_y_test = train_test_split(\n",
        "        X_shadow, y_shadow, test_size=0.5, random_state=42 + i\n",
        "    )\n",
        "    shadow_splits.append((shadow_train, shadow_test, shadow_y_train, shadow_y_test))\n",
        "\n",
        "shadow_outputs = []\n",
        "shadow_labels = []\n",
        "\n",
        "for i, (shadow_train, shadow_test, shadow_y_train, shadow_y_test) in enumerate(shadow_splits):\n",
        "    print(f\"Training shadow model {i+1}...\")\n",
        "\n",
        "    # Create and compile model\n",
        "    shadow_model = Sequential([\n",
        "        Dense(128, activation=\"relu\", input_shape=(X_train.shape[1],)),\n",
        "        Dense(64, activation=\"relu\"),\n",
        "        Dense(32, activation=\"relu\"),\n",
        "        Dense(1, activation=\"sigmoid\")\n",
        "    ])\n",
        "    shadow_model.compile(optimizer=\"adam\", loss=\"binary_crossentropy\")\n",
        "\n",
        "    # Fit model\n",
        "    shadow_model.fit(shadow_train, shadow_y_train, epochs=100, batch_size=32, verbose=0)\n",
        "\n",
        "    # Predict\n",
        "    train_preds = shadow_model.predict(shadow_train, batch_size=32)\n",
        "    test_preds = shadow_model.predict(shadow_test, batch_size=32)\n",
        "\n",
        "    # Squeeze predictions\n",
        "    train_preds = np.squeeze(train_preds)\n",
        "    test_preds = np.squeeze(test_preds)\n",
        "\n",
        "    # Convert labels to float32\n",
        "    y_train_float = shadow_y_train.astype(np.float32)\n",
        "    y_test_float = shadow_y_test.astype(np.float32)\n",
        "\n",
        "    # Calculate **individual** binary crossentropy losses\n",
        "    train_loss = K.binary_crossentropy(y_train_float, train_preds).numpy()\n",
        "    test_loss = K.binary_crossentropy(y_test_float, test_preds).numpy()\n",
        "\n",
        "    # Stack [p1, p0, loss]\n",
        "    train_out = np.hstack([\n",
        "        train_preds.reshape(-1, 1),\n",
        "        (1 - train_preds).reshape(-1, 1),\n",
        "        train_loss.reshape(-1, 1)\n",
        "    ])\n",
        "\n",
        "    test_out = np.hstack([\n",
        "        test_preds.reshape(-1, 1),\n",
        "        (1 - test_preds).reshape(-1, 1),\n",
        "        test_loss.reshape(-1, 1)\n",
        "    ])\n",
        "\n",
        "    # Append outputs and corresponding labels (1 = member, 0 = non-member)\n",
        "    shadow_outputs.append(train_out)\n",
        "    shadow_outputs.append(test_out)\n",
        "\n",
        "    shadow_labels.append(np.ones(len(train_out)))   # member\n",
        "    shadow_labels.append(np.zeros(len(test_out)))   # non-member\n",
        "\n",
        "# Prepare attack model input data\n",
        "attack_X = np.vstack(shadow_outputs)\n",
        "attack_y = np.hstack(shadow_labels)\n",
        "\n",
        "# Shape check\n",
        "print(\"attack_X shape:\", attack_X.shape)  # (num_samples, 3)\n",
        "print(\"attack_y shape:\", attack_y.shape)  # (num_samples,)\n"
      ],
      "metadata": {
        "colab": {
          "base_uri": "https://localhost:8080/"
        },
        "id": "1uIYmwewlx_T",
        "outputId": "07994834-72de-4cc8-ec42-25172f3c015b"
      },
      "execution_count": 24,
      "outputs": [
        {
          "output_type": "stream",
          "name": "stdout",
          "text": [
            "Training shadow model 1...\n"
          ]
        },
        {
          "output_type": "stream",
          "name": "stderr",
          "text": [
            "/usr/local/lib/python3.11/dist-packages/keras/src/layers/core/dense.py:87: UserWarning: Do not pass an `input_shape`/`input_dim` argument to a layer. When using Sequential models, prefer using an `Input(shape)` object as the first layer in the model instead.\n",
            "  super().__init__(activity_regularizer=activity_regularizer, **kwargs)\n"
          ]
        },
        {
          "output_type": "stream",
          "name": "stdout",
          "text": [
            "\u001b[1m566/566\u001b[0m \u001b[32m━━━━━━━━━━━━━━━━━━━━\u001b[0m\u001b[37m\u001b[0m \u001b[1m1s\u001b[0m 1ms/step\n",
            "\u001b[1m566/566\u001b[0m \u001b[32m━━━━━━━━━━━━━━━━━━━━\u001b[0m\u001b[37m\u001b[0m \u001b[1m1s\u001b[0m 1ms/step\n",
            "Training shadow model 2...\n"
          ]
        },
        {
          "output_type": "stream",
          "name": "stderr",
          "text": [
            "/usr/local/lib/python3.11/dist-packages/keras/src/layers/core/dense.py:87: UserWarning: Do not pass an `input_shape`/`input_dim` argument to a layer. When using Sequential models, prefer using an `Input(shape)` object as the first layer in the model instead.\n",
            "  super().__init__(activity_regularizer=activity_regularizer, **kwargs)\n"
          ]
        },
        {
          "output_type": "stream",
          "name": "stdout",
          "text": [
            "\u001b[1m566/566\u001b[0m \u001b[32m━━━━━━━━━━━━━━━━━━━━\u001b[0m\u001b[37m\u001b[0m \u001b[1m1s\u001b[0m 2ms/step\n",
            "\u001b[1m566/566\u001b[0m \u001b[32m━━━━━━━━━━━━━━━━━━━━\u001b[0m\u001b[37m\u001b[0m \u001b[1m1s\u001b[0m 1ms/step\n",
            "Training shadow model 3...\n"
          ]
        },
        {
          "output_type": "stream",
          "name": "stderr",
          "text": [
            "/usr/local/lib/python3.11/dist-packages/keras/src/layers/core/dense.py:87: UserWarning: Do not pass an `input_shape`/`input_dim` argument to a layer. When using Sequential models, prefer using an `Input(shape)` object as the first layer in the model instead.\n",
            "  super().__init__(activity_regularizer=activity_regularizer, **kwargs)\n"
          ]
        },
        {
          "output_type": "stream",
          "name": "stdout",
          "text": [
            "\u001b[1m566/566\u001b[0m \u001b[32m━━━━━━━━━━━━━━━━━━━━\u001b[0m\u001b[37m\u001b[0m \u001b[1m1s\u001b[0m 1ms/step\n",
            "\u001b[1m566/566\u001b[0m \u001b[32m━━━━━━━━━━━━━━━━━━━━\u001b[0m\u001b[37m\u001b[0m \u001b[1m1s\u001b[0m 2ms/step\n",
            "Training shadow model 4...\n"
          ]
        },
        {
          "output_type": "stream",
          "name": "stderr",
          "text": [
            "/usr/local/lib/python3.11/dist-packages/keras/src/layers/core/dense.py:87: UserWarning: Do not pass an `input_shape`/`input_dim` argument to a layer. When using Sequential models, prefer using an `Input(shape)` object as the first layer in the model instead.\n",
            "  super().__init__(activity_regularizer=activity_regularizer, **kwargs)\n"
          ]
        },
        {
          "output_type": "stream",
          "name": "stdout",
          "text": [
            "\u001b[1m566/566\u001b[0m \u001b[32m━━━━━━━━━━━━━━━━━━━━\u001b[0m\u001b[37m\u001b[0m \u001b[1m1s\u001b[0m 1ms/step\n",
            "\u001b[1m566/566\u001b[0m \u001b[32m━━━━━━━━━━━━━━━━━━━━\u001b[0m\u001b[37m\u001b[0m \u001b[1m1s\u001b[0m 1ms/step\n",
            "attack_X shape: (144708, 3)\n",
            "attack_y shape: (144708,)\n"
          ]
        }
      ]
    },
    {
      "cell_type": "code",
      "source": [
        "# Train attack model\n",
        "attack_model = LogisticRegression()\n",
        "attack_model.fit(attack_X, attack_y)\n",
        "target_X = np.vstack([train_outputs, test_outputs])\n",
        "target_y = np.hstack([np.ones(len(train_outputs)), np.zeros(len(test_outputs))])\n",
        "attack_preds = attack_model.predict(target_X)\n",
        "\n",
        "# Evaluate\n",
        "accuracy = accuracy_score(target_y, attack_preds)\n",
        "precision = precision_score(target_y, attack_preds)\n",
        "recall = recall_score(target_y, attack_preds)\n",
        "print(f\"Attack Accuracy: {accuracy:.4f}\")\n",
        "print(f\"Attack Precision: {precision:.4f}\")\n",
        "print(f\"Attack Recall: {recall:.4f}\")\n",
        "\n",
        "# Visuals\n",
        "cm = confusion_matrix(target_y, attack_preds)\n",
        "sns.heatmap(cm, annot=True, fmt=\"d\", cmap=\"Blues\")\n",
        "plt.xlabel(\"Predicted\")\n",
        "plt.ylabel(\"True\")\n",
        "plt.title(\"Confusion Matrix\")\n",
        "plt.savefig(\"confusion_matrix.png\")\n",
        "plt.show()\n",
        "\n",
        "plt.hist(target_X[target_y == 1][:, 0], bins=20, alpha=0.5, label=\"Train (In)\")\n",
        "plt.hist(target_X[target_y == 0][:, 0], bins=20, alpha=0.5, label=\"Test (Out)\")\n",
        "plt.xlabel(\"Prediction Probability (>50K)\")\n",
        "plt.ylabel(\"Count\")\n",
        "plt.title(\"Confidence Distributions\")\n",
        "plt.legend()\n",
        "plt.savefig(\"confidence_histogram.png\")\n",
        "plt.show()\n",
        "\n",
        "plt.hist(target_X[target_y == 1][:, 2], bins=20, alpha=0.5, label=\"Train (In)\")\n",
        "plt.hist(target_X[target_y == 0][:, 2], bins=20, alpha=0.5, label=\"Test (Out)\")\n",
        "plt.xlabel(\"Loss\")\n",
        "plt.ylabel(\"Count\")\n",
        "plt.title(\"Loss Distributions\")\n",
        "plt.legend()\n",
        "plt.savefig(\"loss_histogram.png\")\n",
        "plt.show()"
      ],
      "metadata": {
        "colab": {
          "base_uri": "https://localhost:8080/",
          "height": 1000
        },
        "id": "92v_lR5gl9p0",
        "outputId": "c9fa711b-8416-4e39-f085-71638e55083e"
      },
      "execution_count": 25,
      "outputs": [
        {
          "output_type": "stream",
          "name": "stdout",
          "text": [
            "Attack Accuracy: 0.6511\n",
            "Attack Precision: 0.7606\n",
            "Attack Recall: 0.7804\n"
          ]
        },
        {
          "output_type": "display_data",
          "data": {
            "text/plain": [
              "<Figure size 640x480 with 2 Axes>"
            ],
            "image/png": "[encoded data removed]"
          },
          "metadata": {}
        },
        {
          "output_type": "display_data",
          "data": {
            "text/plain": [
              "<Figure size 640x480 with 1 Axes>"
            ],
            "image/png": "[encoded data removed]"
          },
          "metadata": {}
        },
        {
          "output_type": "display_data",
          "data": {
            "text/plain": [
              "<Figure size 640x480 with 1 Axes>"
            ],
            "image/png": "[encoded data removed]"
          },
          "metadata": {}
        }
      ]
    },
    {
      "cell_type": "markdown",
      "source": [],
      "metadata": {
        "id": "Zp_I8SCtlgDG"
      }
    },
    {
      "cell_type": "code",
      "source": [],
      "metadata": {
        "id": "gjk2e23fpfa4"
      },
      "execution_count": null,
      "outputs": []
    },
    {
      "cell_type": "code",
      "source": [
        "!pip install opacus"
      ],
      "metadata": {
        "colab": {
          "base_uri": "https://localhost:8080/",
          "height": 1000
        },
        "id": "kMS7v1REplBW",
        "outputId": "5963136c-bd9a-4ece-c112-e24cc12a4123"
      },
      "execution_count": 26,
      "outputs": [
        {
          "output_type": "stream",
          "name": "stdout",
          "text": [
            "Collecting opacus\n",
            "  Downloading opacus-1.5.3-py3-none-any.whl.metadata (8.4 kB)\n",
            "Collecting numpy<2.0,>=1.15 (from opacus)\n",
            "  Downloading numpy-1.26.4-cp311-cp311-manylinux_2_17_x86_64.manylinux2014_x86_64.whl.metadata (61 kB)\n",
            "\u001b[2K     \u001b[90m━━━━━━━━━━━━━━━━━━━━━━━━━━━━━━━━━━━━━━━━\u001b[0m \u001b[32m61.0/61.0 kB\u001b[0m \u001b[31m3.6 MB/s\u001b[0m eta \u001b[36m0:00:00\u001b[0m\n",
            "\u001b[?25hRequirement already satisfied: torch>=2.0 in /usr/local/lib/python3.11/dist-packages (from opacus) (2.6.0+cu124)\n",
            "Requirement already satisfied: scipy>=1.2 in /usr/local/lib/python3.11/dist-packages (from opacus) (1.14.1)\n",
            "Requirement already satisfied: opt-einsum>=3.3.0 in /usr/local/lib/python3.11/dist-packages (from opacus) (3.4.0)\n",
            "Requirement already satisfied: filelock in /usr/local/lib/python3.11/dist-packages (from torch>=2.0->opacus) (3.18.0)\n",
            "Requirement already satisfied: typing-extensions>=4.10.0 in /usr/local/lib/python3.11/dist-packages (from torch>=2.0->opacus) (4.13.1)\n",
            "Requirement already satisfied: networkx in /usr/local/lib/python3.11/dist-packages (from torch>=2.0->opacus) (3.4.2)\n",
            "Requirement already satisfied: jinja2 in /usr/local/lib/python3.11/dist-packages (from torch>=2.0->opacus) (3.1.6)\n",
            "Requirement already satisfied: fsspec in /usr/local/lib/python3.11/dist-packages (from torch>=2.0->opacus) (2025.3.2)\n",
            "Collecting nvidia-cuda-nvrtc-cu12==12.4.127 (from torch>=2.0->opacus)\n",
            "  Downloading nvidia_cuda_nvrtc_cu12-12.4.127-py3-none-manylinux2014_x86_64.whl.metadata (1.5 kB)\n",
            "Collecting nvidia-cuda-runtime-cu12==12.4.127 (from torch>=2.0->opacus)\n",
            "  Downloading nvidia_cuda_runtime_cu12-12.4.127-py3-none-manylinux2014_x86_64.whl.metadata (1.5 kB)\n",
            "Collecting nvidia-cuda-cupti-cu12==12.4.127 (from torch>=2.0->opacus)\n",
            "  Downloading nvidia_cuda_cupti_cu12-12.4.127-py3-none-manylinux2014_x86_64.whl.metadata (1.6 kB)\n",
            "Collecting nvidia-cudnn-cu12==9.1.0.70 (from torch>=2.0->opacus)\n",
            "  Downloading nvidia_cudnn_cu12-9.1.0.70-py3-none-manylinux2014_x86_64.whl.metadata (1.6 kB)\n",
            "Collecting nvidia-cublas-cu12==12.4.5.8 (from torch>=2.0->opacus)\n",
            "  Downloading nvidia_cublas_cu12-12.4.5.8-py3-none-manylinux2014_x86_64.whl.metadata (1.5 kB)\n",
            "Collecting nvidia-cufft-cu12==11.2.1.3 (from torch>=2.0->opacus)\n",
            "  Downloading nvidia_cufft_cu12-11.2.1.3-py3-none-manylinux2014_x86_64.whl.metadata (1.5 kB)\n",
            "Collecting nvidia-curand-cu12==10.3.5.147 (from torch>=2.0->opacus)\n",
            "  Downloading nvidia_curand_cu12-10.3.5.147-py3-none-manylinux2014_x86_64.whl.metadata (1.5 kB)\n",
            "Collecting nvidia-cusolver-cu12==11.6.1.9 (from torch>=2.0->opacus)\n",
            "  Downloading nvidia_cusolver_cu12-11.6.1.9-py3-none-manylinux2014_x86_64.whl.metadata (1.6 kB)\n",
            "Collecting nvidia-cusparse-cu12==12.3.1.170 (from torch>=2.0->opacus)\n",
            "  Downloading nvidia_cusparse_cu12-12.3.1.170-py3-none-manylinux2014_x86_64.whl.metadata (1.6 kB)\n",
            "Requirement already satisfied: nvidia-cusparselt-cu12==0.6.2 in /usr/local/lib/python3.11/dist-packages (from torch>=2.0->opacus) (0.6.2)\n",
            "Requirement already satisfied: nvidia-nccl-cu12==2.21.5 in /usr/local/lib/python3.11/dist-packages (from torch>=2.0->opacus) (2.21.5)\n",
            "Requirement already satisfied: nvidia-nvtx-cu12==12.4.127 in /usr/local/lib/python3.11/dist-packages (from torch>=2.0->opacus) (12.4.127)\n",
            "Collecting nvidia-nvjitlink-cu12==12.4.127 (from torch>=2.0->opacus)\n",
            "  Downloading nvidia_nvjitlink_cu12-12.4.127-py3-none-manylinux2014_x86_64.whl.metadata (1.5 kB)\n",
            "Requirement already satisfied: triton==3.2.0 in /usr/local/lib/python3.11/dist-packages (from torch>=2.0->opacus) (3.2.0)\n",
            "Requirement already satisfied: sympy==1.13.1 in /usr/local/lib/python3.11/dist-packages (from torch>=2.0->opacus) (1.13.1)\n",
            "Requirement already satisfied: mpmath<1.4,>=1.1.0 in /usr/local/lib/python3.11/dist-packages (from sympy==1.13.1->torch>=2.0->opacus) (1.3.0)\n",
            "Requirement already satisfied: MarkupSafe>=2.0 in /usr/local/lib/python3.11/dist-packages (from jinja2->torch>=2.0->opacus) (3.0.2)\n",
            "Downloading opacus-1.5.3-py3-none-any.whl (251 kB)\n",
            "\u001b[2K   \u001b[90m━━━━━━━━━━━━━━━━━━━━━━━━━━━━━━━━━━━━━━━━\u001b[0m \u001b[32m251.7/251.7 kB\u001b[0m \u001b[31m9.4 MB/s\u001b[0m eta \u001b[36m0:00:00\u001b[0m\n",
            "\u001b[?25hDownloading numpy-1.26.4-cp311-cp311-manylinux_2_17_x86_64.manylinux2014_x86_64.whl (18.3 MB)\n",
            "\u001b[2K   \u001b[90m━━━━━━━━━━━━━━━━━━━━━━━━━━━━━━━━━━━━━━━━\u001b[0m \u001b[32m18.3/18.3 MB\u001b[0m \u001b[31m57.0 MB/s\u001b[0m eta \u001b[36m0:00:00\u001b[0m\n",
            "\u001b[?25hDownloading nvidia_cublas_cu12-12.4.5.8-py3-none-manylinux2014_x86_64.whl (363.4 MB)\n",
            "\u001b[2K   \u001b[90m━━━━━━━━━━━━━━━━━━━━━━━━━━━━━━━━━━━━━━━━\u001b[0m \u001b[32m363.4/363.4 MB\u001b[0m \u001b[31m2.6 MB/s\u001b[0m eta \u001b[36m0:00:00\u001b[0m\n",
            "\u001b[?25hDownloading nvidia_cuda_cupti_cu12-12.4.127-py3-none-manylinux2014_x86_64.whl (13.8 MB)\n",
            "\u001b[2K   \u001b[90m━━━━━━━━━━━━━━━━━━━━━━━━━━━━━━━━━━━━━━━━\u001b[0m \u001b[32m13.8/13.8 MB\u001b[0m \u001b[31m29.1 MB/s\u001b[0m eta \u001b[36m0:00:00\u001b[0m\n",
            "\u001b[?25hDownloading nvidia_cuda_nvrtc_cu12-12.4.127-py3-none-manylinux2014_x86_64.whl (24.6 MB)\n",
            "\u001b[2K   \u001b[90m━━━━━━━━━━━━━━━━━━━━━━━━━━━━━━━━━━━━━━━━\u001b[0m \u001b[32m24.6/24.6 MB\u001b[0m \u001b[31m16.1 MB/s\u001b[0m eta \u001b[36m0:00:00\u001b[0m\n",
            "\u001b[?25hDownloading nvidia_cuda_runtime_cu12-12.4.127-py3-none-manylinux2014_x86_64.whl (883 kB)\n",
            "\u001b[2K   \u001b[90m━━━━━━━━━━━━━━━━━━━━━━━━━━━━━━━━━━━━━━━━\u001b[0m \u001b[32m883.7/883.7 kB\u001b[0m \u001b[31m23.5 MB/s\u001b[0m eta \u001b[36m0:00:00\u001b[0m\n",
            "\u001b[?25hDownloading nvidia_cudnn_cu12-9.1.0.70-py3-none-manylinux2014_x86_64.whl (664.8 MB)\n",
            "\u001b[2K   \u001b[90m━━━━━━━━━━━━━━━━━━━━━━━━━━━━━━━━━━━━━━━\u001b[0m \u001b[32m664.8/664.8 MB\u001b[0m \u001b[31m845.8 kB/s\u001b[0m eta \u001b[36m0:00:00\u001b[0m\n",
            "\u001b[?25hDownloading nvidia_cufft_cu12-11.2.1.3-py3-none-manylinux2014_x86_64.whl (211.5 MB)\n",
            "\u001b[2K   \u001b[90m━━━━━━━━━━━━━━━━━━━━━━━━━━━━━━━━━━━━━━━━\u001b[0m \u001b[32m211.5/211.5 MB\u001b[0m \u001b[31m4.5 MB/s\u001b[0m eta \u001b[36m0:00:00\u001b[0m\n",
            "\u001b[?25hDownloading nvidia_curand_cu12-10.3.5.147-py3-none-manylinux2014_x86_64.whl (56.3 MB)\n",
            "\u001b[2K   \u001b[90m━━━━━━━━━━━━━━━━━━━━━━━━━━━━━━━━━━━━━━━━\u001b[0m \u001b[32m56.3/56.3 MB\u001b[0m \u001b[31m11.6 MB/s\u001b[0m eta \u001b[36m0:00:00\u001b[0m\n",
            "\u001b[?25hDownloading nvidia_cusolver_cu12-11.6.1.9-py3-none-manylinux2014_x86_64.whl (127.9 MB)\n",
            "\u001b[2K   \u001b[90m━━━━━━━━━━━━━━━━━━━━━━━━━━━━━━━━━━━━━━━━\u001b[0m \u001b[32m127.9/127.9 MB\u001b[0m \u001b[31m7.2 MB/s\u001b[0m eta \u001b[36m0:00:00\u001b[0m\n",
            "\u001b[?25hDownloading nvidia_cusparse_cu12-12.3.1.170-py3-none-manylinux2014_x86_64.whl (207.5 MB)\n",
            "\u001b[2K   \u001b[90m━━━━━━━━━━━━━━━━━━━━━━━━━━━━━━━━━━━━━━━━\u001b[0m \u001b[32m207.5/207.5 MB\u001b[0m \u001b[31m4.9 MB/s\u001b[0m eta \u001b[36m0:00:00\u001b[0m\n",
            "\u001b[?25hDownloading nvidia_nvjitlink_cu12-12.4.127-py3-none-manylinux2014_x86_64.whl (21.1 MB)\n",
            "\u001b[2K   \u001b[90m━━━━━━━━━━━━━━━━━━━━━━━━━━━━━━━━━━━━━━━━\u001b[0m \u001b[32m21.1/21.1 MB\u001b[0m \u001b[31m38.7 MB/s\u001b[0m eta \u001b[36m0:00:00\u001b[0m\n",
            "\u001b[?25hInstalling collected packages: nvidia-nvjitlink-cu12, nvidia-curand-cu12, nvidia-cufft-cu12, nvidia-cuda-runtime-cu12, nvidia-cuda-nvrtc-cu12, nvidia-cuda-cupti-cu12, nvidia-cublas-cu12, numpy, nvidia-cusparse-cu12, nvidia-cudnn-cu12, nvidia-cusolver-cu12, opacus\n",
            "  Attempting uninstall: nvidia-nvjitlink-cu12\n",
            "    Found existing installation: nvidia-nvjitlink-cu12 12.5.82\n",
            "    Uninstalling nvidia-nvjitlink-cu12-12.5.82:\n",
            "      Successfully uninstalled nvidia-nvjitlink-cu12-12.5.82\n",
            "  Attempting uninstall: nvidia-curand-cu12\n",
            "    Found existing installation: nvidia-curand-cu12 10.3.6.82\n",
            "    Uninstalling nvidia-curand-cu12-10.3.6.82:\n",
            "      Successfully uninstalled nvidia-curand-cu12-10.3.6.82\n",
            "  Attempting uninstall: nvidia-cufft-cu12\n",
            "    Found existing installation: nvidia-cufft-cu12 11.2.3.61\n",
            "    Uninstalling nvidia-cufft-cu12-11.2.3.61:\n",
            "      Successfully uninstalled nvidia-cufft-cu12-11.2.3.61\n",
            "  Attempting uninstall: nvidia-cuda-runtime-cu12\n",
            "    Found existing installation: nvidia-cuda-runtime-cu12 12.5.82\n",
            "    Uninstalling nvidia-cuda-runtime-cu12-12.5.82:\n",
            "      Successfully uninstalled nvidia-cuda-runtime-cu12-12.5.82\n",
            "  Attempting uninstall: nvidia-cuda-nvrtc-cu12\n",
            "    Found existing installation: nvidia-cuda-nvrtc-cu12 12.5.82\n",
            "    Uninstalling nvidia-cuda-nvrtc-cu12-12.5.82:\n",
            "      Successfully uninstalled nvidia-cuda-nvrtc-cu12-12.5.82\n",
            "  Attempting uninstall: nvidia-cuda-cupti-cu12\n",
            "    Found existing installation: nvidia-cuda-cupti-cu12 12.5.82\n",
            "    Uninstalling nvidia-cuda-cupti-cu12-12.5.82:\n",
            "      Successfully uninstalled nvidia-cuda-cupti-cu12-12.5.82\n",
            "  Attempting uninstall: nvidia-cublas-cu12\n",
            "    Found existing installation: nvidia-cublas-cu12 12.5.3.2\n",
            "    Uninstalling nvidia-cublas-cu12-12.5.3.2:\n",
            "      Successfully uninstalled nvidia-cublas-cu12-12.5.3.2\n",
            "  Attempting uninstall: numpy\n",
            "    Found existing installation: numpy 2.0.2\n",
            "    Uninstalling numpy-2.0.2:\n",
            "      Successfully uninstalled numpy-2.0.2\n",
            "  Attempting uninstall: nvidia-cusparse-cu12\n",
            "    Found existing installation: nvidia-cusparse-cu12 12.5.1.3\n",
            "    Uninstalling nvidia-cusparse-cu12-12.5.1.3:\n",
            "      Successfully uninstalled nvidia-cusparse-cu12-12.5.1.3\n",
            "  Attempting uninstall: nvidia-cudnn-cu12\n",
            "    Found existing installation: nvidia-cudnn-cu12 9.3.0.75\n",
            "    Uninstalling nvidia-cudnn-cu12-9.3.0.75:\n",
            "      Successfully uninstalled nvidia-cudnn-cu12-9.3.0.75\n",
            "  Attempting uninstall: nvidia-cusolver-cu12\n",
            "    Found existing installation: nvidia-cusolver-cu12 11.6.3.83\n",
            "    Uninstalling nvidia-cusolver-cu12-11.6.3.83:\n",
            "      Successfully uninstalled nvidia-cusolver-cu12-11.6.3.83\n",
            "\u001b[31mERROR: pip's dependency resolver does not currently take into account all the packages that are installed. This behaviour is the source of the following dependency conflicts.\n",
            "thinc 8.3.6 requires numpy<3.0.0,>=2.0.0, but you have numpy 1.26.4 which is incompatible.\u001b[0m\u001b[31m\n",
            "\u001b[0mSuccessfully installed numpy-1.26.4 nvidia-cublas-cu12-12.4.5.8 nvidia-cuda-cupti-cu12-12.4.127 nvidia-cuda-nvrtc-cu12-12.4.127 nvidia-cuda-runtime-cu12-12.4.127 nvidia-cudnn-cu12-9.1.0.70 nvidia-cufft-cu12-11.2.1.3 nvidia-curand-cu12-10.3.5.147 nvidia-cusolver-cu12-11.6.1.9 nvidia-cusparse-cu12-12.3.1.170 nvidia-nvjitlink-cu12-12.4.127 opacus-1.5.3\n"
          ]
        },
        {
          "output_type": "display_data",
          "data": {
            "application/vnd.colab-display-data+json": {
              "pip_warning": {
                "packages": [
                  "nvidia"
                ]
              },
              "id": "e71b238547da43e2bd93a951f5f6c59b"
            }
          },
          "metadata": {}
        }
      ]
    },
    {
      "cell_type": "code",
      "source": [
        "import torch\n",
        "import torch.nn as nn\n",
        "import torch.optim as optim\n",
        "from opacus import PrivacyEngine\n",
        "from torch.utils.data import DataLoader, TensorDataset\n",
        "import numpy as np\n",
        "import matplotlib.pyplot as plt\n",
        "from sklearn.metrics import accuracy_score\n",
        "\n",
        "# Device setup\n",
        "device = torch.device(\"cuda\" if torch.cuda.is_available() else \"cpu\")\n",
        "print(f\"Using device: {device}\")\n",
        "\n",
        "# Convert data to tensors\n",
        "X_train_tensor = torch.tensor(X_train.values, dtype=torch.float32).to(device)\n",
        "y_train_tensor = torch.tensor(y_train.values, dtype=torch.float32).reshape(-1, 1).to(device)\n",
        "X_test_tensor = torch.tensor(X_test.values, dtype=torch.float32).to(device)\n",
        "y_test_tensor = torch.tensor(y_test.values, dtype=torch.float32).reshape(-1, 1).to(device)\n",
        "train_dataset = TensorDataset(X_train_tensor, y_train_tensor)\n",
        "train_loader = DataLoader(train_dataset, batch_size=256, shuffle=True)\n",
        "\n",
        "# Define model\n",
        "class DPModel(nn.Module):\n",
        "    def __init__(self, input_dim):\n",
        "        super(DPModel, self).__init__()\n",
        "        self.layers = nn.Sequential(\n",
        "            nn.Linear(input_dim, 128),\n",
        "            nn.ReLU(),\n",
        "            nn.Linear(128, 64),\n",
        "            nn.ReLU(),\n",
        "            nn.Linear(64, 32),\n",
        "            nn.ReLU(),\n",
        "            nn.Linear(32, 1),\n",
        "            nn.Sigmoid()\n",
        "        )\n",
        "    def forward(self, x):\n",
        "        return self.layers(x)\n",
        "\n",
        "dp_model = DPModel(input_dim=X_train.shape[1]).to(device)\n",
        "\n",
        "# Optimizer\n",
        "optimizer = optim.Adam(dp_model.parameters(), lr=0.01)\n",
        "\n",
        "# Privacy engine\n",
        "privacy_engine = PrivacyEngine()\n",
        "dp_model, optimizer, train_loader = privacy_engine.make_private_with_epsilon(\n",
        "    module=dp_model,\n",
        "    optimizer=optimizer,\n",
        "    data_loader=train_loader,\n",
        "    target_epsilon=3.0,\n",
        "    target_delta=1e-5,\n",
        "    max_grad_norm=1.0,\n",
        "    epochs=20\n",
        ")\n",
        "\n",
        "# Training loop\n",
        "epochs = 20\n",
        "for epoch in range(epochs):\n",
        "    dp_model.train()\n",
        "    total_loss = 0\n",
        "    for x_batch, y_batch in train_loader:\n",
        "        x_batch, y_batch = x_batch.to(device), y_batch.to(device)\n",
        "        optimizer.zero_grad()\n",
        "        outputs = dp_model(x_batch)\n",
        "        loss = nn.BCELoss()(outputs, y_batch)\n",
        "        loss.backward()\n",
        "        optimizer.step()\n",
        "        total_loss += loss.item()\n",
        "    if epoch % 5 == 0:\n",
        "        epsilon = privacy_engine.get_epsilon(delta=1e-5)\n",
        "        print(f\"Epoch {epoch}, Avg Loss: {total_loss / len(train_loader):.4f}, Epsilon: {epsilon:.2f}\")\n",
        "\n",
        "# Evaluate\n",
        "dp_model.eval()\n",
        "with torch.no_grad():\n",
        "    test_outputs = dp_model(X_test_tensor)\n",
        "    test_accuracy = accuracy_score(y_test, (test_outputs.cpu().numpy() > 0.5).astype(int))\n",
        "print(f\"DP Test Accuracy: {test_accuracy:.4f}\")\n",
        "\n",
        "# DP attack\n",
        "dp_train_preds = dp_model(X_train_tensor).detach().cpu().numpy().flatten()  # Ensure 1D\n",
        "dp_test_preds = dp_model(X_test_tensor).detach().cpu().numpy().flatten()   # Ensure 1D\n",
        "y_train_np = y_train.to_numpy().flatten()  # Convert Series to numpy, 1D\n",
        "y_test_np = y_test.to_numpy().flatten()    # Convert Series to numpy, 1D\n",
        "\n",
        "# Compute binary cross-entropy loss element-wise\n",
        "dp_train_loss = -(\n",
        "    y_train_np * np.log(dp_train_preds + 1e-7) +\n",
        "    (1 - y_train_np) * np.log(1 - dp_train_preds + 1e-7)\n",
        ")\n",
        "dp_test_loss = -(\n",
        "    y_test_np * np.log(dp_test_preds + 1e-7) +\n",
        "    (1 - y_test_np) * np.log(1 - dp_test_preds + 1e-7)\n",
        ")\n",
        "\n",
        "# Stack outputs\n",
        "dp_train_outputs = np.hstack([\n",
        "    dp_train_preds.reshape(-1, 1),\n",
        "    (1 - dp_train_preds).reshape(-1, 1),\n",
        "    dp_train_loss.reshape(-1, 1)\n",
        "])\n",
        "dp_test_outputs = np.hstack([\n",
        "    dp_test_preds.reshape(-1, 1),\n",
        "    (1 - dp_test_preds).reshape(-1, 1),\n",
        "    dp_test_loss.reshape(-1, 1)\n",
        "])\n",
        "dp_target_X = np.vstack([dp_train_outputs, dp_test_outputs])\n",
        "dp_target_y = np.hstack([np.ones(len(dp_train_outputs)), np.zeros(len(dp_test_outputs))])\n",
        "dp_attack_preds = attack_model.predict(dp_target_X)\n",
        "dp_accuracy = accuracy_score(dp_target_y, dp_attack_preds)\n",
        "print(f\"DP Attack Accuracy: {dp_accuracy:.4f}\")\n",
        "\n",
        "# Visualize\n",
        "plt.figure(figsize=(8, 6))\n",
        "plt.bar([\"Non-DP\", \"DP\"], [accuracy, dp_accuracy])\n",
        "plt.ylabel(\"Attack Accuracy\")\n",
        "plt.title(\"MIA Success: Non-DP vs. DP\")\n",
        "plt.savefig(\"dp_comparison.png\")\n",
        "plt.show()"
      ],
      "metadata": {
        "colab": {
          "base_uri": "https://localhost:8080/",
          "height": 839
        },
        "id": "G13enn4IqlT1",
        "outputId": "41634f8a-3fde-448b-a4a7-e585e4c9d304"
      },
      "execution_count": 27,
      "outputs": [
        {
          "output_type": "stream",
          "name": "stdout",
          "text": [
            "Using device: cpu\n"
          ]
        },
        {
          "output_type": "stream",
          "name": "stderr",
          "text": [
            "/usr/local/lib/python3.11/dist-packages/opacus/privacy_engine.py:96: UserWarning: Secure RNG turned off. This is perfectly fine for experimentation as it allows for much faster training performance, but remember to turn it on and retrain one last time before production with ``secure_mode`` turned on.\n",
            "  warnings.warn(\n",
            "/usr/local/lib/python3.11/dist-packages/opacus/accountants/analysis/rdp.py:332: UserWarning: Optimal order is the largest alpha. Please consider expanding the range of alphas to get a tighter privacy bound.\n",
            "  warnings.warn(\n",
            "/usr/local/lib/python3.11/dist-packages/torch/nn/modules/module.py:1830: FutureWarning: Using a non-full backward hook when the forward contains multiple autograd Nodes is deprecated and will be removed in future versions. This hook will be missing some grad_input. Please use register_full_backward_hook to get the documented behavior.\n",
            "  self._maybe_warn_non_full_backward_hook(args, result, grad_fn)\n"
          ]
        },
        {
          "output_type": "stream",
          "name": "stdout",
          "text": [
            "Epoch 0, Avg Loss: 1.0991, Epsilon: 0.92\n",
            "Epoch 5, Avg Loss: 0.8615, Epsilon: 1.71\n",
            "Epoch 10, Avg Loss: 0.8524, Epsilon: 2.24\n",
            "Epoch 15, Avg Loss: 0.8295, Epsilon: 2.68\n",
            "DP Test Accuracy: 0.8270\n",
            "DP Attack Accuracy: 0.6592\n"
          ]
        },
        {
          "output_type": "stream",
          "name": "stderr",
          "text": [
            "/usr/local/lib/python3.11/dist-packages/torch/nn/modules/module.py:1830: FutureWarning: Using a non-full backward hook when the forward contains multiple autograd Nodes is deprecated and will be removed in future versions. This hook will be missing some grad_input. Please use register_full_backward_hook to get the documented behavior.\n",
            "  self._maybe_warn_non_full_backward_hook(args, result, grad_fn)\n"
          ]
        },
        {
          "output_type": "display_data",
          "data": {
            "text/plain": [
              "<Figure size 800x600 with 1 Axes>"
            ],
            "image/png": "[encoded data removed]"
          },
          "metadata": {}
        }
      ]
    }
  ]
}